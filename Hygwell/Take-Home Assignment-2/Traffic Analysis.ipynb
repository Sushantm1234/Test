{
 "cells": [
  {
   "cell_type": "markdown",
   "id": "166faf7c-ac9d-43e5-98ed-2e224d619ae0",
   "metadata": {},
   "source": [
    "## **Title :- Traffic Analysis**"
   ]
  },
  {
   "cell_type": "markdown",
   "id": "a7af3f3c-bd89-445d-8302-0f5e049c4a97",
   "metadata": {},
   "source": [
    "**Questions -**\n",
    "1. Total and Daily pageview events:\n",
    "- How many total pageview events did the links in the dataset receive during the entire period?\n",
    "- what is the average number of pageview events per day?\n",
    "2. Analysis of other events:\n",
    "- what is the total count and distribution of other recorded events in the dataset?\n",
    "3. Geographical Distribution:\n",
    "- which countries contributed to the pageviews?\n",
    "4. click-through rate (CTR) Analysis:\n",
    "- what is the overall click-through rate(CTR) calculated as clicks/pageviews?\n",
    "- How does the CTR vary across different links?\n",
    "5. Correlation Analysis:\n",
    "- is there a correlation between clicks and previews on a link ? if so, is it statistically significant  and how strong is the effect?\n",
    "- perform tests for both potential linear relationships and categorical (binary) relationships between these variables."
   ]
  },
  {
   "cell_type": "markdown",
   "id": "85ab93c2-2e77-4fc4-a44d-658639368b41",
   "metadata": {},
   "source": [
    "### Objective "
   ]
  },
  {
   "cell_type": "markdown",
   "id": "e433b6c3-4b09-4bc5-bb6f-0ba4e3c4823e",
   "metadata": {},
   "source": [
    "The objective of this traffic analysis project is to gain actionable insights into web traffic patterns by analyzing the volume and distribution of events such as pageviews and clicks across different links. The study focuses on understanding geographical contributions, evaluating click-through rates (CTR), and identifying relationships between clicks and pageviews. By applying statistical methods, the analysis aims to uncover factors influencing CTR and propose strategies to improve user engagement and link performance."
   ]
  },
  {
   "cell_type": "markdown",
   "id": "2c46b165-4465-46f4-a1ae-9f1598a56fe1",
   "metadata": {},
   "source": [
    "### Import Libraries"
   ]
  },
  {
   "cell_type": "code",
   "execution_count": 6,
   "id": "be9b1dfe-7693-4d3c-b024-429c91185d0d",
   "metadata": {},
   "outputs": [],
   "source": [
    "# Importing the required libraries\n",
    "import numpy as np\n",
    "import pandas as pd\n",
    "import matplotlib.pyplot as plt\n",
    "import seaborn as sns\n",
    "from scipy.stats import pearsonr, spearmanr, chi2_contingency\n",
    "\n",
    "import warnings as wr\n",
    "wr.filterwarnings('ignore')"
   ]
  },
  {
   "cell_type": "markdown",
   "id": "7a29501c-cb8f-4bdc-9900-fb99d3b196ad",
   "metadata": {},
   "source": [
    "### Import Dataset"
   ]
  },
  {
   "cell_type": "code",
   "execution_count": 8,
   "id": "c5326a82-a80d-47a4-a1f6-60865fbea452",
   "metadata": {},
   "outputs": [],
   "source": [
    "# Importing the traffic dataset\n",
    "df = pd.read_csv(\"traffic.csv\")"
   ]
  },
  {
   "cell_type": "code",
   "execution_count": 9,
   "id": "df2da589-c0c7-4a7d-be30-86ee6833347c",
   "metadata": {},
   "outputs": [
    {
     "data": {
      "text/html": [
       "<div>\n",
       "<style scoped>\n",
       "    .dataframe tbody tr th:only-of-type {\n",
       "        vertical-align: middle;\n",
       "    }\n",
       "\n",
       "    .dataframe tbody tr th {\n",
       "        vertical-align: top;\n",
       "    }\n",
       "\n",
       "    .dataframe thead th {\n",
       "        text-align: right;\n",
       "    }\n",
       "</style>\n",
       "<table border=\"1\" class=\"dataframe\">\n",
       "  <thead>\n",
       "    <tr style=\"text-align: right;\">\n",
       "      <th></th>\n",
       "      <th>event</th>\n",
       "      <th>date</th>\n",
       "      <th>country</th>\n",
       "      <th>city</th>\n",
       "      <th>artist</th>\n",
       "      <th>album</th>\n",
       "      <th>track</th>\n",
       "      <th>isrc</th>\n",
       "      <th>linkid</th>\n",
       "    </tr>\n",
       "  </thead>\n",
       "  <tbody>\n",
       "    <tr>\n",
       "      <th>0</th>\n",
       "      <td>click</td>\n",
       "      <td>2021-08-21</td>\n",
       "      <td>Saudi Arabia</td>\n",
       "      <td>Jeddah</td>\n",
       "      <td>Tesher</td>\n",
       "      <td>Jalebi Baby</td>\n",
       "      <td>Jalebi Baby</td>\n",
       "      <td>QZNWQ2070741</td>\n",
       "      <td>2d896d31-97b6-4869-967b-1c5fb9cd4bb8</td>\n",
       "    </tr>\n",
       "    <tr>\n",
       "      <th>1</th>\n",
       "      <td>click</td>\n",
       "      <td>2021-08-21</td>\n",
       "      <td>Saudi Arabia</td>\n",
       "      <td>Jeddah</td>\n",
       "      <td>Tesher</td>\n",
       "      <td>Jalebi Baby</td>\n",
       "      <td>Jalebi Baby</td>\n",
       "      <td>QZNWQ2070741</td>\n",
       "      <td>2d896d31-97b6-4869-967b-1c5fb9cd4bb8</td>\n",
       "    </tr>\n",
       "    <tr>\n",
       "      <th>2</th>\n",
       "      <td>click</td>\n",
       "      <td>2021-08-21</td>\n",
       "      <td>India</td>\n",
       "      <td>Ludhiana</td>\n",
       "      <td>Reyanna Maria</td>\n",
       "      <td>So Pretty</td>\n",
       "      <td>So Pretty</td>\n",
       "      <td>USUM72100871</td>\n",
       "      <td>23199824-9cf5-4b98-942a-34965c3b0cc2</td>\n",
       "    </tr>\n",
       "    <tr>\n",
       "      <th>3</th>\n",
       "      <td>click</td>\n",
       "      <td>2021-08-21</td>\n",
       "      <td>France</td>\n",
       "      <td>Unknown</td>\n",
       "      <td>Simone &amp; Simaria, Sebastian Yatra</td>\n",
       "      <td>No Llores Más</td>\n",
       "      <td>No Llores Más</td>\n",
       "      <td>BRUM72003904</td>\n",
       "      <td>35573248-4e49-47c7-af80-08a960fa74cd</td>\n",
       "    </tr>\n",
       "    <tr>\n",
       "      <th>4</th>\n",
       "      <td>click</td>\n",
       "      <td>2021-08-21</td>\n",
       "      <td>Maldives</td>\n",
       "      <td>Malé</td>\n",
       "      <td>Tesher</td>\n",
       "      <td>Jalebi Baby</td>\n",
       "      <td>Jalebi Baby</td>\n",
       "      <td>QZNWQ2070741</td>\n",
       "      <td>2d896d31-97b6-4869-967b-1c5fb9cd4bb8</td>\n",
       "    </tr>\n",
       "  </tbody>\n",
       "</table>\n",
       "</div>"
      ],
      "text/plain": [
       "   event        date       country      city  \\\n",
       "0  click  2021-08-21  Saudi Arabia    Jeddah   \n",
       "1  click  2021-08-21  Saudi Arabia    Jeddah   \n",
       "2  click  2021-08-21         India  Ludhiana   \n",
       "3  click  2021-08-21        France   Unknown   \n",
       "4  click  2021-08-21      Maldives      Malé   \n",
       "\n",
       "                              artist          album          track  \\\n",
       "0                             Tesher    Jalebi Baby    Jalebi Baby   \n",
       "1                             Tesher    Jalebi Baby    Jalebi Baby   \n",
       "2                      Reyanna Maria      So Pretty      So Pretty   \n",
       "3  Simone & Simaria, Sebastian Yatra  No Llores Más  No Llores Más   \n",
       "4                             Tesher    Jalebi Baby    Jalebi Baby   \n",
       "\n",
       "           isrc                                linkid  \n",
       "0  QZNWQ2070741  2d896d31-97b6-4869-967b-1c5fb9cd4bb8  \n",
       "1  QZNWQ2070741  2d896d31-97b6-4869-967b-1c5fb9cd4bb8  \n",
       "2  USUM72100871  23199824-9cf5-4b98-942a-34965c3b0cc2  \n",
       "3  BRUM72003904  35573248-4e49-47c7-af80-08a960fa74cd  \n",
       "4  QZNWQ2070741  2d896d31-97b6-4869-967b-1c5fb9cd4bb8  "
      ]
     },
     "execution_count": 9,
     "metadata": {},
     "output_type": "execute_result"
    }
   ],
   "source": [
    "# first five rows of the dataset\n",
    "df.head()"
   ]
  },
  {
   "cell_type": "markdown",
   "id": "8615ccbd-2c09-4b92-b6dd-11bfee4c81c3",
   "metadata": {},
   "source": [
    "### Data Cleaning and Preprocessing"
   ]
  },
  {
   "cell_type": "code",
   "execution_count": 11,
   "id": "19e531d6-6796-4455-a73a-ca7577903fb5",
   "metadata": {},
   "outputs": [
    {
     "data": {
      "text/html": [
       "<div>\n",
       "<style scoped>\n",
       "    .dataframe tbody tr th:only-of-type {\n",
       "        vertical-align: middle;\n",
       "    }\n",
       "\n",
       "    .dataframe tbody tr th {\n",
       "        vertical-align: top;\n",
       "    }\n",
       "\n",
       "    .dataframe thead th {\n",
       "        text-align: right;\n",
       "    }\n",
       "</style>\n",
       "<table border=\"1\" class=\"dataframe\">\n",
       "  <thead>\n",
       "    <tr style=\"text-align: right;\">\n",
       "      <th></th>\n",
       "      <th>event</th>\n",
       "      <th>date</th>\n",
       "      <th>country</th>\n",
       "      <th>city</th>\n",
       "      <th>artist</th>\n",
       "      <th>album</th>\n",
       "      <th>track</th>\n",
       "      <th>isrc</th>\n",
       "      <th>linkid</th>\n",
       "    </tr>\n",
       "  </thead>\n",
       "  <tbody>\n",
       "    <tr>\n",
       "      <th>0</th>\n",
       "      <td>click</td>\n",
       "      <td>2021-08-21</td>\n",
       "      <td>Saudi Arabia</td>\n",
       "      <td>Jeddah</td>\n",
       "      <td>Tesher</td>\n",
       "      <td>Jalebi Baby</td>\n",
       "      <td>Jalebi Baby</td>\n",
       "      <td>QZNWQ2070741</td>\n",
       "      <td>2d896d31-97b6-4869-967b-1c5fb9cd4bb8</td>\n",
       "    </tr>\n",
       "    <tr>\n",
       "      <th>1</th>\n",
       "      <td>click</td>\n",
       "      <td>2021-08-21</td>\n",
       "      <td>Saudi Arabia</td>\n",
       "      <td>Jeddah</td>\n",
       "      <td>Tesher</td>\n",
       "      <td>Jalebi Baby</td>\n",
       "      <td>Jalebi Baby</td>\n",
       "      <td>QZNWQ2070741</td>\n",
       "      <td>2d896d31-97b6-4869-967b-1c5fb9cd4bb8</td>\n",
       "    </tr>\n",
       "    <tr>\n",
       "      <th>2</th>\n",
       "      <td>click</td>\n",
       "      <td>2021-08-21</td>\n",
       "      <td>India</td>\n",
       "      <td>Ludhiana</td>\n",
       "      <td>Reyanna Maria</td>\n",
       "      <td>So Pretty</td>\n",
       "      <td>So Pretty</td>\n",
       "      <td>USUM72100871</td>\n",
       "      <td>23199824-9cf5-4b98-942a-34965c3b0cc2</td>\n",
       "    </tr>\n",
       "    <tr>\n",
       "      <th>3</th>\n",
       "      <td>click</td>\n",
       "      <td>2021-08-21</td>\n",
       "      <td>France</td>\n",
       "      <td>Unknown</td>\n",
       "      <td>Simone &amp; Simaria, Sebastian Yatra</td>\n",
       "      <td>No Llores Más</td>\n",
       "      <td>No Llores Más</td>\n",
       "      <td>BRUM72003904</td>\n",
       "      <td>35573248-4e49-47c7-af80-08a960fa74cd</td>\n",
       "    </tr>\n",
       "    <tr>\n",
       "      <th>4</th>\n",
       "      <td>click</td>\n",
       "      <td>2021-08-21</td>\n",
       "      <td>Maldives</td>\n",
       "      <td>Malé</td>\n",
       "      <td>Tesher</td>\n",
       "      <td>Jalebi Baby</td>\n",
       "      <td>Jalebi Baby</td>\n",
       "      <td>QZNWQ2070741</td>\n",
       "      <td>2d896d31-97b6-4869-967b-1c5fb9cd4bb8</td>\n",
       "    </tr>\n",
       "  </tbody>\n",
       "</table>\n",
       "</div>"
      ],
      "text/plain": [
       "   event        date       country      city  \\\n",
       "0  click  2021-08-21  Saudi Arabia    Jeddah   \n",
       "1  click  2021-08-21  Saudi Arabia    Jeddah   \n",
       "2  click  2021-08-21         India  Ludhiana   \n",
       "3  click  2021-08-21        France   Unknown   \n",
       "4  click  2021-08-21      Maldives      Malé   \n",
       "\n",
       "                              artist          album          track  \\\n",
       "0                             Tesher    Jalebi Baby    Jalebi Baby   \n",
       "1                             Tesher    Jalebi Baby    Jalebi Baby   \n",
       "2                      Reyanna Maria      So Pretty      So Pretty   \n",
       "3  Simone & Simaria, Sebastian Yatra  No Llores Más  No Llores Más   \n",
       "4                             Tesher    Jalebi Baby    Jalebi Baby   \n",
       "\n",
       "           isrc                                linkid  \n",
       "0  QZNWQ2070741  2d896d31-97b6-4869-967b-1c5fb9cd4bb8  \n",
       "1  QZNWQ2070741  2d896d31-97b6-4869-967b-1c5fb9cd4bb8  \n",
       "2  USUM72100871  23199824-9cf5-4b98-942a-34965c3b0cc2  \n",
       "3  BRUM72003904  35573248-4e49-47c7-af80-08a960fa74cd  \n",
       "4  QZNWQ2070741  2d896d31-97b6-4869-967b-1c5fb9cd4bb8  "
      ]
     },
     "execution_count": 11,
     "metadata": {},
     "output_type": "execute_result"
    }
   ],
   "source": [
    "df.head()"
   ]
  },
  {
   "cell_type": "code",
   "execution_count": 12,
   "id": "76533655-f556-4b16-b83d-05612fa50625",
   "metadata": {},
   "outputs": [
    {
     "data": {
      "text/plain": [
       "(226278, 9)"
      ]
     },
     "execution_count": 12,
     "metadata": {},
     "output_type": "execute_result"
    }
   ],
   "source": [
    "# number of rows and columns\n",
    "df.shape"
   ]
  },
  {
   "cell_type": "code",
   "execution_count": 13,
   "id": "8930825b-232b-42a1-adc5-5e9394b7c7ab",
   "metadata": {},
   "outputs": [
    {
     "data": {
      "text/plain": [
       "Index(['event', 'date', 'country', 'city', 'artist', 'album', 'track', 'isrc',\n",
       "       'linkid'],\n",
       "      dtype='object')"
      ]
     },
     "execution_count": 13,
     "metadata": {},
     "output_type": "execute_result"
    }
   ],
   "source": [
    "df.columns"
   ]
  },
  {
   "cell_type": "code",
   "execution_count": 14,
   "id": "d37a28b0-c0f4-4ee8-a31f-a5982c138349",
   "metadata": {},
   "outputs": [],
   "source": [
    "# drop un-neccessary columns from dataset\n",
    "df.drop([ 'isrc'], axis=1, inplace=True)"
   ]
  },
  {
   "cell_type": "code",
   "execution_count": 15,
   "id": "6c7f7734-0648-4068-95ae-feeaa3cdd888",
   "metadata": {},
   "outputs": [
    {
     "name": "stdout",
     "output_type": "stream",
     "text": [
      "<class 'pandas.core.frame.DataFrame'>\n",
      "RangeIndex: 226278 entries, 0 to 226277\n",
      "Data columns (total 8 columns):\n",
      " #   Column   Non-Null Count   Dtype \n",
      "---  ------   --------------   ----- \n",
      " 0   event    226278 non-null  object\n",
      " 1   date     226278 non-null  object\n",
      " 2   country  226267 non-null  object\n",
      " 3   city     226267 non-null  object\n",
      " 4   artist   226241 non-null  object\n",
      " 5   album    226273 non-null  object\n",
      " 6   track    226273 non-null  object\n",
      " 7   linkid   226278 non-null  object\n",
      "dtypes: object(8)\n",
      "memory usage: 13.8+ MB\n"
     ]
    }
   ],
   "source": [
    "# statistaical information of the dataset\n",
    "df.info()"
   ]
  },
  {
   "cell_type": "code",
   "execution_count": 16,
   "id": "ab0601e9-b0b5-4728-b239-94342bc41b75",
   "metadata": {},
   "outputs": [
    {
     "data": {
      "text/html": [
       "<div>\n",
       "<style scoped>\n",
       "    .dataframe tbody tr th:only-of-type {\n",
       "        vertical-align: middle;\n",
       "    }\n",
       "\n",
       "    .dataframe tbody tr th {\n",
       "        vertical-align: top;\n",
       "    }\n",
       "\n",
       "    .dataframe thead th {\n",
       "        text-align: right;\n",
       "    }\n",
       "</style>\n",
       "<table border=\"1\" class=\"dataframe\">\n",
       "  <thead>\n",
       "    <tr style=\"text-align: right;\">\n",
       "      <th></th>\n",
       "      <th>event</th>\n",
       "      <th>date</th>\n",
       "      <th>country</th>\n",
       "      <th>city</th>\n",
       "      <th>artist</th>\n",
       "      <th>album</th>\n",
       "      <th>track</th>\n",
       "      <th>linkid</th>\n",
       "    </tr>\n",
       "  </thead>\n",
       "  <tbody>\n",
       "    <tr>\n",
       "      <th>count</th>\n",
       "      <td>226278</td>\n",
       "      <td>226278</td>\n",
       "      <td>226267</td>\n",
       "      <td>226267</td>\n",
       "      <td>226241</td>\n",
       "      <td>226273</td>\n",
       "      <td>226273</td>\n",
       "      <td>226278</td>\n",
       "    </tr>\n",
       "    <tr>\n",
       "      <th>unique</th>\n",
       "      <td>3</td>\n",
       "      <td>7</td>\n",
       "      <td>211</td>\n",
       "      <td>11993</td>\n",
       "      <td>2419</td>\n",
       "      <td>3254</td>\n",
       "      <td>3562</td>\n",
       "      <td>3839</td>\n",
       "    </tr>\n",
       "    <tr>\n",
       "      <th>top</th>\n",
       "      <td>pageview</td>\n",
       "      <td>2021-08-19</td>\n",
       "      <td>Saudi Arabia</td>\n",
       "      <td>Jeddah</td>\n",
       "      <td>Tesher</td>\n",
       "      <td>Jalebi Baby</td>\n",
       "      <td>Jalebi Baby</td>\n",
       "      <td>2d896d31-97b6-4869-967b-1c5fb9cd4bb8</td>\n",
       "    </tr>\n",
       "    <tr>\n",
       "      <th>freq</th>\n",
       "      <td>142015</td>\n",
       "      <td>35361</td>\n",
       "      <td>47334</td>\n",
       "      <td>22791</td>\n",
       "      <td>40841</td>\n",
       "      <td>40841</td>\n",
       "      <td>40841</td>\n",
       "      <td>40841</td>\n",
       "    </tr>\n",
       "  </tbody>\n",
       "</table>\n",
       "</div>"
      ],
      "text/plain": [
       "           event        date       country    city  artist        album  \\\n",
       "count     226278      226278        226267  226267  226241       226273   \n",
       "unique         3           7           211   11993    2419         3254   \n",
       "top     pageview  2021-08-19  Saudi Arabia  Jeddah  Tesher  Jalebi Baby   \n",
       "freq      142015       35361         47334   22791   40841        40841   \n",
       "\n",
       "              track                                linkid  \n",
       "count        226273                                226278  \n",
       "unique         3562                                  3839  \n",
       "top     Jalebi Baby  2d896d31-97b6-4869-967b-1c5fb9cd4bb8  \n",
       "freq          40841                                 40841  "
      ]
     },
     "execution_count": 16,
     "metadata": {},
     "output_type": "execute_result"
    }
   ],
   "source": [
    "# describe the dataset\n",
    "df.describe(include='all')"
   ]
  },
  {
   "cell_type": "code",
   "execution_count": 17,
   "id": "b03ffc4a-efd9-4298-bafa-37b371f2502e",
   "metadata": {},
   "outputs": [
    {
     "data": {
      "text/plain": [
       "event       0\n",
       "date        0\n",
       "country    11\n",
       "city       11\n",
       "artist     37\n",
       "album       5\n",
       "track       5\n",
       "linkid      0\n",
       "dtype: int64"
      ]
     },
     "execution_count": 17,
     "metadata": {},
     "output_type": "execute_result"
    }
   ],
   "source": [
    "# checking null and missing values\n",
    "df.isnull().sum()"
   ]
  },
  {
   "cell_type": "code",
   "execution_count": 18,
   "id": "0e5f48fd-0bda-49c6-af11-49f7597fa5d4",
   "metadata": {},
   "outputs": [],
   "source": [
    "# droping null and  missing values\n",
    "df.dropna(inplace=True)"
   ]
  },
  {
   "cell_type": "code",
   "execution_count": 19,
   "id": "0aa26bf4-c614-493c-ae71-36b1554ad57d",
   "metadata": {},
   "outputs": [
    {
     "data": {
      "text/plain": [
       "103696"
      ]
     },
     "execution_count": 19,
     "metadata": {},
     "output_type": "execute_result"
    }
   ],
   "source": [
    "#checking duplicated values\n",
    "df.duplicated().sum()"
   ]
  },
  {
   "cell_type": "code",
   "execution_count": 20,
   "id": "5dfcb772-050c-4fe2-bf2e-92f454555879",
   "metadata": {},
   "outputs": [],
   "source": [
    "# drop duplicated values\n",
    "df.drop_duplicates(inplace=True)"
   ]
  },
  {
   "cell_type": "markdown",
   "id": "cec3c0f6-5ebb-4912-9b59-e7403dbde1d3",
   "metadata": {},
   "source": [
    "### Exploratory Data Analysis and Data Visualization"
   ]
  },
  {
   "cell_type": "code",
   "execution_count": 22,
   "id": "0cfc997f-14f1-49ce-8b6b-fa25d11c5e9a",
   "metadata": {},
   "outputs": [
    {
     "data": {
      "text/html": [
       "<div>\n",
       "<style scoped>\n",
       "    .dataframe tbody tr th:only-of-type {\n",
       "        vertical-align: middle;\n",
       "    }\n",
       "\n",
       "    .dataframe tbody tr th {\n",
       "        vertical-align: top;\n",
       "    }\n",
       "\n",
       "    .dataframe thead th {\n",
       "        text-align: right;\n",
       "    }\n",
       "</style>\n",
       "<table border=\"1\" class=\"dataframe\">\n",
       "  <thead>\n",
       "    <tr style=\"text-align: right;\">\n",
       "      <th></th>\n",
       "      <th>event</th>\n",
       "      <th>date</th>\n",
       "      <th>country</th>\n",
       "      <th>city</th>\n",
       "      <th>artist</th>\n",
       "      <th>album</th>\n",
       "      <th>track</th>\n",
       "      <th>linkid</th>\n",
       "    </tr>\n",
       "  </thead>\n",
       "  <tbody>\n",
       "    <tr>\n",
       "      <th>0</th>\n",
       "      <td>click</td>\n",
       "      <td>2021-08-21</td>\n",
       "      <td>Saudi Arabia</td>\n",
       "      <td>Jeddah</td>\n",
       "      <td>Tesher</td>\n",
       "      <td>Jalebi Baby</td>\n",
       "      <td>Jalebi Baby</td>\n",
       "      <td>2d896d31-97b6-4869-967b-1c5fb9cd4bb8</td>\n",
       "    </tr>\n",
       "    <tr>\n",
       "      <th>2</th>\n",
       "      <td>click</td>\n",
       "      <td>2021-08-21</td>\n",
       "      <td>India</td>\n",
       "      <td>Ludhiana</td>\n",
       "      <td>Reyanna Maria</td>\n",
       "      <td>So Pretty</td>\n",
       "      <td>So Pretty</td>\n",
       "      <td>23199824-9cf5-4b98-942a-34965c3b0cc2</td>\n",
       "    </tr>\n",
       "    <tr>\n",
       "      <th>3</th>\n",
       "      <td>click</td>\n",
       "      <td>2021-08-21</td>\n",
       "      <td>France</td>\n",
       "      <td>Unknown</td>\n",
       "      <td>Simone &amp; Simaria, Sebastian Yatra</td>\n",
       "      <td>No Llores Más</td>\n",
       "      <td>No Llores Más</td>\n",
       "      <td>35573248-4e49-47c7-af80-08a960fa74cd</td>\n",
       "    </tr>\n",
       "    <tr>\n",
       "      <th>4</th>\n",
       "      <td>click</td>\n",
       "      <td>2021-08-21</td>\n",
       "      <td>Maldives</td>\n",
       "      <td>Malé</td>\n",
       "      <td>Tesher</td>\n",
       "      <td>Jalebi Baby</td>\n",
       "      <td>Jalebi Baby</td>\n",
       "      <td>2d896d31-97b6-4869-967b-1c5fb9cd4bb8</td>\n",
       "    </tr>\n",
       "    <tr>\n",
       "      <th>5</th>\n",
       "      <td>click</td>\n",
       "      <td>2021-08-21</td>\n",
       "      <td>United States</td>\n",
       "      <td>Los Angeles</td>\n",
       "      <td>KenTheMan</td>\n",
       "      <td>I'm Perfect</td>\n",
       "      <td>I'm Perfect</td>\n",
       "      <td>190c7170-4044-4c97-9709-926917155b02</td>\n",
       "    </tr>\n",
       "  </tbody>\n",
       "</table>\n",
       "</div>"
      ],
      "text/plain": [
       "   event        date        country         city  \\\n",
       "0  click  2021-08-21   Saudi Arabia       Jeddah   \n",
       "2  click  2021-08-21          India     Ludhiana   \n",
       "3  click  2021-08-21         France      Unknown   \n",
       "4  click  2021-08-21       Maldives         Malé   \n",
       "5  click  2021-08-21  United States  Los Angeles   \n",
       "\n",
       "                              artist          album          track  \\\n",
       "0                             Tesher    Jalebi Baby    Jalebi Baby   \n",
       "2                      Reyanna Maria      So Pretty      So Pretty   \n",
       "3  Simone & Simaria, Sebastian Yatra  No Llores Más  No Llores Más   \n",
       "4                             Tesher    Jalebi Baby    Jalebi Baby   \n",
       "5                          KenTheMan    I'm Perfect    I'm Perfect   \n",
       "\n",
       "                                 linkid  \n",
       "0  2d896d31-97b6-4869-967b-1c5fb9cd4bb8  \n",
       "2  23199824-9cf5-4b98-942a-34965c3b0cc2  \n",
       "3  35573248-4e49-47c7-af80-08a960fa74cd  \n",
       "4  2d896d31-97b6-4869-967b-1c5fb9cd4bb8  \n",
       "5  190c7170-4044-4c97-9709-926917155b02  "
      ]
     },
     "execution_count": 22,
     "metadata": {},
     "output_type": "execute_result"
    }
   ],
   "source": [
    "df.head()"
   ]
  },
  {
   "cell_type": "markdown",
   "id": "a3303820-774e-46ff-b76e-457a2f6a2ccd",
   "metadata": {},
   "source": [
    "**1. Total and Daily Pageview Events**"
   ]
  },
  {
   "cell_type": "markdown",
   "id": "6a3272a7-c2c9-42f4-bec4-bf2a5629a383",
   "metadata": {},
   "source": [
    "Total pageview events did the links in the dataset receive during the entire period"
   ]
  },
  {
   "cell_type": "code",
   "execution_count": 25,
   "id": "362f1432-cced-4a2f-8063-3ef2644721a1",
   "metadata": {},
   "outputs": [
    {
     "name": "stdout",
     "output_type": "stream",
     "text": [
      "Total Pageviews: 73338\n"
     ]
    }
   ],
   "source": [
    "# Filter for pageview events\n",
    "pageview_data = df[df['event'] == 'pageview']\n",
    "\n",
    "# Calculate total pageview events\n",
    "total_pageviews = pageview_data.shape[0]\n",
    "print(f\"Total Pageviews: {total_pageviews}\")"
   ]
  },
  {
   "cell_type": "markdown",
   "id": "554c906e-55aa-49f9-be94-9286c8d45e6d",
   "metadata": {},
   "source": [
    "Average number of pageview events per day"
   ]
  },
  {
   "cell_type": "code",
   "execution_count": 27,
   "id": "83b6018c-a900-41dd-9e5d-497669448f52",
   "metadata": {},
   "outputs": [
    {
     "name": "stdout",
     "output_type": "stream",
     "text": [
      "Average Daily Pageviews: 10476.857142857143\n"
     ]
    }
   ],
   "source": [
    "# Calculate daily total and average pageviews\n",
    "daily_pageviews = pageview_data.groupby('date').size()\n",
    "average_daily_pageviews = daily_pageviews.mean()\n",
    "print(f\"Average Daily Pageviews: {average_daily_pageviews}\")"
   ]
  },
  {
   "cell_type": "code",
   "execution_count": null,
   "id": "f5d37801-ac68-4b0d-85f8-1f2da70b8542",
   "metadata": {},
   "outputs": [],
   "source": []
  },
  {
   "cell_type": "markdown",
   "id": "b61e5cbb-7a38-4f26-a554-d2161b4b7d4f",
   "metadata": {},
   "source": [
    "**2. Analysis of other events**"
   ]
  },
  {
   "cell_type": "markdown",
   "id": "9f644de1-e0b4-4a15-a2d7-f3d41810b961",
   "metadata": {},
   "source": [
    "Total count and distribution of other recorded events in the dataset"
   ]
  },
  {
   "cell_type": "code",
   "execution_count": 30,
   "id": "45134cfb-aa99-48ad-91a9-20914bd02d23",
   "metadata": {},
   "outputs": [
    {
     "name": "stdout",
     "output_type": "stream",
     "text": [
      "Total Count of All Events:\n",
      "event\n",
      "pageview    73338\n",
      "click       32489\n",
      "preview     16707\n",
      "Name: count, dtype: int64\n"
     ]
    },
    {
     "data": {
      "image/png": "[encoded data removed]",
      "text/plain": [
       "<Figure size 600x400 with 1 Axes>"
      ]
     },
     "metadata": {},
     "output_type": "display_data"
    }
   ],
   "source": [
    "# Total count of all events\n",
    "total_events = df['event'].value_counts()\n",
    "print(\"Total Count of All Events:\")\n",
    "print(total_events)\n",
    "\n",
    "# Visualize the distribution of events\n",
    "import matplotlib.pyplot as plt\n",
    "total_events.plot(kind='bar', title='Event Type Distribution', figsize=(6, 4))\n",
    "plt.xlabel('Event Type')\n",
    "plt.ylabel('Count')\n",
    "plt.show()"
   ]
  },
  {
   "cell_type": "code",
   "execution_count": null,
   "id": "beb022ef-113f-4af7-b64d-694548978359",
   "metadata": {},
   "outputs": [],
   "source": []
  },
  {
   "cell_type": "markdown",
   "id": "c1e85291-bde4-4ca6-9b30-095687be9e94",
   "metadata": {},
   "source": [
    "**3. Geographical Distribution**"
   ]
  },
  {
   "cell_type": "markdown",
   "id": "99b5e725-7541-4ecc-9475-806ead2c64f8",
   "metadata": {},
   "source": [
    "Countries contributed to the pageviews (Top 20 Countries)"
   ]
  },
  {
   "cell_type": "code",
   "execution_count": 33,
   "id": "59f4f7f3-9587-4fd8-9da1-c721b37abcea",
   "metadata": {},
   "outputs": [
    {
     "name": "stdout",
     "output_type": "stream",
     "text": [
      "Pageviews by Country:\n",
      "country\n",
      "United States           18115\n",
      "India                   10565\n",
      "France                   6181\n",
      "Saudi Arabia             3712\n",
      "United Kingdom           3218\n",
      "Germany                  2584\n",
      "Canada                   1702\n",
      "Turkey                   1598\n",
      "Pakistan                 1382\n",
      "Iraq                     1285\n",
      "Australia                 998\n",
      "United Arab Emirates      957\n",
      "Netherlands               826\n",
      "Norway                    747\n",
      "Sweden                    723\n",
      "Belgium                   699\n",
      "Nigeria                   636\n",
      "Mexico                    626\n",
      "Poland                    505\n",
      "Brazil                    504\n",
      "dtype: int64\n"
     ]
    },
    {
     "data": {
      "image/png": "[encoded data removed]",
      "text/plain": [
       "<Figure size 800x400 with 1 Axes>"
      ]
     },
     "metadata": {},
     "output_type": "display_data"
    }
   ],
   "source": [
    "# Calculate pageviews by top 20 country\n",
    "pageviews_by_country = pageview_data.groupby('country').size().sort_values(ascending=False).head(20)\n",
    "print(\"Pageviews by Country:\")\n",
    "print(pageviews_by_country)\n",
    "\n",
    "# Visualize geographical distribution\n",
    "pageviews_by_country.plot(kind='bar', title='Pageviews by Country', figsize=(8,4))\n",
    "plt.xlabel('Country')\n",
    "plt.ylabel('Pageviews')\n",
    "plt.show()\n"
   ]
  },
  {
   "cell_type": "code",
   "execution_count": null,
   "id": "a261cb00-6436-4a39-b971-34dcd0e845fd",
   "metadata": {},
   "outputs": [],
   "source": []
  },
  {
   "cell_type": "markdown",
   "id": "20b9529b-5592-47b7-ad63-1102d6fc3e93",
   "metadata": {},
   "source": [
    "**4. click-through rate (CTR) Analysis**"
   ]
  },
  {
   "cell_type": "markdown",
   "id": "fe346060-321e-46dd-910d-361442bcfd33",
   "metadata": {},
   "source": [
    "Overall click-through rate(CTR) calculated as clicks/pageviews"
   ]
  },
  {
   "cell_type": "code",
   "execution_count": 36,
   "id": "4df9c4e0-92cb-4f6e-a5f2-cec4308bc65c",
   "metadata": {},
   "outputs": [
    {
     "name": "stdout",
     "output_type": "stream",
     "text": [
      "Overall CTR: 0.44300362704191554\n"
     ]
    }
   ],
   "source": [
    "# Total clicks and pageviews\n",
    "click_data = df[df['event'] == 'click']\n",
    "total_clicks = click_data.shape[0]\n",
    "overall_ctr = total_clicks / total_pageviews\n",
    "print(f\"Overall CTR: {overall_ctr}\")"
   ]
  },
  {
   "cell_type": "markdown",
   "id": "053cc00a-a8f0-4ce1-8a8c-fbb0aa22337a",
   "metadata": {},
   "source": [
    "CTR vary across different links"
   ]
  },
  {
   "cell_type": "code",
   "execution_count": 38,
   "id": "2fa0864e-d2e4-4f65-9300-b23122ce211f",
   "metadata": {},
   "outputs": [
    {
     "name": "stdout",
     "output_type": "stream",
     "text": [
      "CTR by Link:\n",
      "linkid\n",
      "00073307-ae96-5089-a117-4783afb42f8e    0.0\n",
      "00126b32-0c35-507b-981c-02c80d2aa8e7    1.0\n",
      "0018cfff-50a1-5984-9715-01ef2d11a49a    0.0\n",
      "0033934b-5d16-5a06-af58-d087bcdd3680    0.0\n",
      "0034d6cf-3bd8-5ffe-aafc-b3959fc48608    0.0\n",
      "                                       ... \n",
      "fff38ca0-8043-50cd-a5f1-f65ebb7105c5    1.0\n",
      "fff4e5f0-4ee5-5fe7-aa30-e870edaf6ed7    0.0\n",
      "fff84c0e-90a1-59d8-9997-adc909d50e16    1.0\n",
      "fffc17a7-f935-5d3e-bd3e-d761fd80d479    0.5\n",
      "fffd0045-29de-522b-b5d8-35786363bf07    0.5\n",
      "Length: 3822, dtype: float64\n"
     ]
    },
    {
     "data": {
      "image/png": "[encoded data removed]",
      "text/plain": [
       "<Figure size 800x400 with 1 Axes>"
      ]
     },
     "metadata": {},
     "output_type": "display_data"
    }
   ],
   "source": [
    "# CTR by link\n",
    "clicks_by_link = click_data.groupby('linkid').size()\n",
    "pageviews_by_link = pageview_data.groupby('linkid').size()\n",
    "ctr_by_link = (clicks_by_link / pageviews_by_link).fillna(0)\n",
    "print(\"CTR by Link:\")\n",
    "print(ctr_by_link)\n",
    "\n",
    "# Visualize Top 10 CTR by link\n",
    "ctr_by_link.sort_values(ascending=False).head(10).plot(kind='bar', title='CTR by Link', figsize=(8, 4))\n",
    "plt.xlabel('Link')\n",
    "plt.ylabel('CTR')\n",
    "plt.show()"
   ]
  },
  {
   "cell_type": "code",
   "execution_count": null,
   "id": "f4922ef7-3b24-42e4-8608-ad47669a1f3b",
   "metadata": {},
   "outputs": [],
   "source": []
  },
  {
   "cell_type": "markdown",
   "id": "cacfb5e6-6113-4896-a672-79a3242d0c35",
   "metadata": {},
   "source": [
    "**5. Correlation Analysis**"
   ]
  },
  {
   "cell_type": "markdown",
   "id": "b3b362bc-2b30-48f6-9b8d-a47731d8731e",
   "metadata": {},
   "source": [
    "Correlation between clicks and previews on a link"
   ]
  },
  {
   "cell_type": "code",
   "execution_count": 41,
   "id": "db18608a-fbc2-4d9b-8ba1-799426304981",
   "metadata": {},
   "outputs": [
    {
     "name": "stdout",
     "output_type": "stream",
     "text": [
      "Correlation Coefficient: 0.990045430725578\n",
      "P-Value: 0.0\n",
      "The correlation is statistically significant.\n",
      "The effect is strong.\n"
     ]
    }
   ],
   "source": [
    "from scipy.stats import pearsonr\n",
    "\n",
    "# Aggregate clicks and pageviews by link\n",
    "link_stats = df.groupby('linkid').agg(\n",
    "    clicks=('event', lambda x: (x == 'click').sum()),\n",
    "    pageviews=('event', lambda x: (x == 'pageview').sum())\n",
    ")\n",
    "\n",
    "# Step 2: Filter out links with no pageviews\n",
    "link_stats = link_stats[link_stats['pageviews'] > 0]\n",
    "\n",
    "# Step 3: Calculate correlation\n",
    "corr, p_value = pearsonr(link_stats['clicks'], link_stats['pageviews'])\n",
    "print(f\"Correlation Coefficient: {corr}\")\n",
    "print(f\"P-Value: {p_value}\")\n",
    "\n",
    "# Step 4: Interpret results\n",
    "if p_value < 0.05:\n",
    "    print(\"The correlation is statistically significant.\")\n",
    "    if abs(corr) >= 0.7:\n",
    "        print(\"The effect is strong.\")\n",
    "    elif 0.3 <= abs(corr) < 0.7:\n",
    "        print(\"The effect is moderate.\")\n",
    "    else:\n",
    "        print(\"The effect is weak.\")\n",
    "else:\n",
    "    print(\"The correlation is not statistically significant.\")"
   ]
  },
  {
   "cell_type": "markdown",
   "id": "f8395c3f-cb68-4b22-92a6-23c8a7403b10",
   "metadata": {},
   "source": [
    "Tests for both potential linear relationships and categorical (binary) relationships"
   ]
  },
  {
   "cell_type": "code",
   "execution_count": 43,
   "id": "ab064bce-9799-4a63-9511-914a4fe98382",
   "metadata": {},
   "outputs": [],
   "source": [
    "from scipy.stats import pearsonr, ttest_ind\n",
    "\n",
    "# Aggregate clicks and pageviews by link\n",
    "link_stats = df.groupby('linkid').agg(\n",
    "    clicks=('event', lambda x: (x == 'click').sum()),\n",
    "    pageviews=('event', lambda x: (x == 'pageview').sum())\n",
    ")\n",
    "\n",
    "# Remove links with no pageviews\n",
    "link_stats = link_stats[link_stats['pageviews'] > 0]\n"
   ]
  },
  {
   "cell_type": "markdown",
   "id": "d8f58a52-d25f-458f-bedb-93491ea70100",
   "metadata": {},
   "source": [
    "Linear Relationship Test"
   ]
  },
  {
   "cell_type": "code",
   "execution_count": 45,
   "id": "6a9e9d4b-1d29-4bac-b5d4-37627d64b549",
   "metadata": {},
   "outputs": [
    {
     "name": "stdout",
     "output_type": "stream",
     "text": [
      "Linear Relationship Test:\n",
      "Correlation Coefficient: 0.990045430725578\n",
      "P-Value: 0.0\n",
      "The linear relationship is statistically significant.\n"
     ]
    }
   ],
   "source": [
    "# Pearson correlation for linear relationship\n",
    "corr, p_value_corr = pearsonr(link_stats['clicks'], link_stats['pageviews'])\n",
    "print(f\"Linear Relationship Test:\")\n",
    "print(f\"Correlation Coefficient: {corr}\")\n",
    "print(f\"P-Value: {p_value_corr}\")\n",
    "if p_value_corr < 0.05:\n",
    "    print(\"The linear relationship is statistically significant.\")\n",
    "else:\n",
    "    print(\"No statistically significant linear relationship.\")"
   ]
  },
  {
   "cell_type": "markdown",
   "id": "d7f7d2da-5d9e-4508-886e-a85779d2957d",
   "metadata": {},
   "source": [
    "Categorical Relationship Test"
   ]
  },
  {
   "cell_type": "code",
   "execution_count": 47,
   "id": "0cafa081-7740-41a4-b9d1-1defefa63c30",
   "metadata": {},
   "outputs": [],
   "source": [
    "# Categorize links into \"High Pageviews\" and \"Low Pageviews\" using median\n",
    "median_pageviews = link_stats['pageviews'].median()\n",
    "link_stats['pageview_category'] = np.where(\n",
    "    link_stats['pageviews'] > median_pageviews, 'high', 'low'\n",
    ")"
   ]
  },
  {
   "cell_type": "code",
   "execution_count": 48,
   "id": "a4c36b92-b037-4985-bde7-eaddfcd462e6",
   "metadata": {},
   "outputs": [],
   "source": [
    "# Separate clicks for the two categories\n",
    "high_pageview_clicks = link_stats[link_stats['pageview_category'] == 'high']['clicks']\n",
    "low_pageview_clicks = link_stats[link_stats['pageview_category'] == 'low']['clicks']"
   ]
  },
  {
   "cell_type": "code",
   "execution_count": 49,
   "id": "122e9206-5c16-4e66-98cd-6c3653841123",
   "metadata": {},
   "outputs": [
    {
     "name": "stdout",
     "output_type": "stream",
     "text": [
      "\n",
      "Categorical (Binary) Relationship Test:\n",
      "T-Statistic: 8.516116356220758\n",
      "P-Value: 4.7610608216511575e-17\n",
      "The categorical difference is statistically significant.\n"
     ]
    }
   ],
   "source": [
    "# T-test for binary relationship\n",
    "t_stat, p_value_ttest = ttest_ind(high_pageview_clicks, low_pageview_clicks, equal_var=False)\n",
    "print(\"\\nCategorical (Binary) Relationship Test:\")\n",
    "print(f\"T-Statistic: {t_stat}\")\n",
    "print(f\"P-Value: {p_value_ttest}\")\n",
    "if p_value_ttest < 0.05:\n",
    "    print(\"The categorical difference is statistically significant.\")\n",
    "else:\n",
    "    print(\"No statistically significant categorical difference.\")"
   ]
  },
  {
   "cell_type": "code",
   "execution_count": null,
   "id": "ce02b2b8-1794-419f-96df-e3c620b278fb",
   "metadata": {},
   "outputs": [],
   "source": []
  }
 ],
 "metadata": {
  "kernelspec": {
   "display_name": "Python 3 (ipykernel)",
   "language": "python",
   "name": "python3"
  },
  "language_info": {
   "codemirror_mode": {
    "name": "ipython",
    "version": 3
   },
   "file_extension": ".py",
   "mimetype": "text/x-python",
   "name": "python",
   "nbconvert_exporter": "python",
   "pygments_lexer": "ipython3",
   "version": "3.12.4"
  }
 },
 "nbformat": 4,
 "nbformat_minor": 5
}
