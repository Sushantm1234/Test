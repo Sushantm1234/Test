{
 "cells": [
  {
   "cell_type": "markdown",
   "id": "752c9d7b-f1d9-46e7-9d8d-34dce3844014",
   "metadata": {},
   "source": [
    "### Import Libraries"
   ]
  },
  {
   "cell_type": "code",
   "execution_count": 2,
   "id": "66ac700a-669d-4d43-8740-605781a1358f",
   "metadata": {},
   "outputs": [],
   "source": [
    "# Importing Libraries\n",
    "from fastapi import FastAPI, UploadFile, Form, HTTPException\n",
    "from pydantic import BaseModel\n",
    "from typing import Dict\n",
    "from uuid import uuid4\n",
    "import requests\n",
    "from bs4 import BeautifulSoup\n",
    "import PyPDF2\n",
    "from sklearn.feature_extraction.text import TfidfVectorizer\n",
    "from sklearn.metrics.pairwise import cosine_similarity\n",
    "import nest_asyncio\n",
    "import uvicorn\n",
    "import os\n",
    "\n",
    "# Apply nest_asyncio to allow running FastAPI in Jupyter Notebook\n",
    "nest_asyncio.apply()"
   ]
  },
  {
   "cell_type": "markdown",
   "id": "67b34054-56d4-4e9d-aeb9-538f8425f5e7",
   "metadata": {},
   "source": [
    "### Initialize FastAPI App and Database"
   ]
  },
  {
   "cell_type": "code",
   "execution_count": 4,
   "id": "3c07e894-44e9-442a-9193-102809ff2d0f",
   "metadata": {},
   "outputs": [],
   "source": [
    "app = FastAPI()\n",
    "\n",
    "# In-memory database to store processed content\n",
    "DATABASE: Dict[str, str] = {}\n",
    "\n",
    "def generate_chat_id():\n",
    "    return str(uuid4())"
   ]
  },
  {
   "cell_type": "markdown",
   "id": "212325a3-e7cc-4ddb-badf-f35e06fea22f",
   "metadata": {},
   "source": [
    "### Define the Models"
   ]
  },
  {
   "cell_type": "code",
   "execution_count": 6,
   "id": "218dc635-6931-4886-bd03-5a19ebdbe971",
   "metadata": {},
   "outputs": [],
   "source": [
    "class URLRequest(BaseModel):\n",
    "    url: str\n",
    "\n",
    "class ChatRequest(BaseModel):\n",
    "    chat_id: str\n",
    "    question: str"
   ]
  },
  {
   "cell_type": "markdown",
   "id": "1920ce45-5963-401b-a705-7e9dbb39e850",
   "metadata": {},
   "source": [
    "### Implement the /process_url Endpoint"
   ]
  },
  {
   "cell_type": "code",
   "execution_count": 8,
   "id": "f8700326-f66d-467d-b7e4-aa2fc9718723",
   "metadata": {},
   "outputs": [],
   "source": [
    "@app.post(\"/process_url\")\n",
    "def process_url(request: URLRequest):\n",
    "    url = request.url\n",
    "    try:\n",
    "        response = requests.get(url)\n",
    "        response.raise_for_status()\n",
    "        soup = BeautifulSoup(response.content, 'html.parser')\n",
    "        text = ' '.join(soup.stripped_strings)\n",
    "        chat_id = generate_chat_id()\n",
    "        DATABASE[chat_id] = text\n",
    "        return {\"chat_id\": chat_id, \"message\": \"URL content processed and stored successfully.\"}\n",
    "    except Exception as e:\n",
    "        raise HTTPException(status_code=400, detail=f\"Error processing URL: {str(e)}\")"
   ]
  },
  {
   "cell_type": "markdown",
   "id": "251bddd1-1b9e-4966-921a-4b975f368b8c",
   "metadata": {},
   "source": [
    "### Implement the /process_pdf Endpoint"
   ]
  },
  {
   "cell_type": "code",
   "execution_count": 10,
   "id": "dca4ed12-2e84-4c5a-952d-9686759e3e6e",
   "metadata": {},
   "outputs": [],
   "source": [
    "@app.post(\"/process_pdf\")\n",
    "def process_pdf(file: UploadFile):\n",
    "    try:\n",
    "        if not file.filename.endswith('.pdf'):\n",
    "            raise HTTPException(status_code=400, detail=\"Uploaded file is not a PDF.\")\n",
    "        pdf_reader = PyPDF2.PdfReader(file.file)\n",
    "        text = ''\n",
    "        for page in pdf_reader.pages:\n",
    "            text += page.extract_text() or ''\n",
    "        chat_id = generate_chat_id()\n",
    "        DATABASE[chat_id] = text.strip()\n",
    "        return {\"chat_id\": chat_id, \"message\": \"PDF content processed and stored successfully.\"}\n",
    "    except Exception as e:\n",
    "        raise HTTPException(status_code=400, detail=f\"Error processing PDF: {str(e)}\")"
   ]
  },
  {
   "cell_type": "markdown",
   "id": "6cb3efc1-fff0-4ca6-86ea-f89bc620bb16",
   "metadata": {},
   "source": [
    "### Implement the /chat Endpoint"
   ]
  },
  {
   "cell_type": "code",
   "execution_count": 12,
   "id": "0f945cde-deef-4ca7-af7b-1ba77bdc0a4e",
   "metadata": {},
   "outputs": [],
   "source": [
    "@app.post(\"/chat\")\n",
    "def chat(request: ChatRequest):\n",
    "    chat_id = request.chat_id\n",
    "    question = request.question\n",
    "\n",
    "    if chat_id not in DATABASE:\n",
    "        raise HTTPException(status_code=404, detail=\"Chat ID not found.\")\n",
    "\n",
    "    content = DATABASE[chat_id]\n",
    "    texts = [content, question]\n",
    "\n",
    "    # Generate TF-IDF embeddings\n",
    "    vectorizer = TfidfVectorizer()\n",
    "    embeddings = vectorizer.fit_transform(texts)\n",
    "\n",
    "    # Calculate similarity\n",
    "    similarity = cosine_similarity(embeddings[0:1], embeddings[1:2])\n",
    "\n",
    "    if similarity[0][0] > 0.1:  # Threshold for relevance\n",
    "        response = f\"The main idea of the document is: {content[:200]}...\"\n",
    "    else:\n",
    "        response = \"Sorry, I couldn't find a relevant response.\"\n",
    "\n",
    "    return {\"response\": response}"
   ]
  },
  {
   "cell_type": "markdown",
   "id": "6255f079-ea71-4267-b89f-0ac1fbf89ca5",
   "metadata": {},
   "source": [
    "### Run the FastAPI Application"
   ]
  },
  {
   "cell_type": "code",
   "execution_count": 14,
   "id": "3d50bcab-5f35-4c2e-b6fc-7ead849ef6b0",
   "metadata": {},
   "outputs": [
    {
     "name": "stderr",
     "output_type": "stream",
     "text": [
      "INFO:     Started server process [27092]\n",
      "INFO:     Waiting for application startup.\n",
      "INFO:     Application startup complete.\n",
      "INFO:     Uvicorn running on http://0.0.0.0:8000 (Press CTRL+C to quit)\n"
     ]
    },
    {
     "name": "stdout",
     "output_type": "stream",
     "text": [
      "INFO:     127.0.0.1:56497 - \"GET /docs HTTP/1.1\" 200 OK\n",
      "INFO:     127.0.0.1:56497 - \"GET /openapi.json HTTP/1.1\" 200 OK\n"
     ]
    },
    {
     "name": "stderr",
     "output_type": "stream",
     "text": [
      "INFO:     Shutting down\n",
      "INFO:     Waiting for application shutdown.\n",
      "INFO:     Application shutdown complete.\n",
      "INFO:     Finished server process [27092]\n"
     ]
    }
   ],
   "source": [
    "if __name__ == \"__main__\":\n",
    "    uvicorn.run(app, host=\"0.0.0.0\", port=8000)"
   ]
  },
  {
   "cell_type": "code",
   "execution_count": null,
   "id": "1d9bd198-3c84-406c-95a9-3ba9abac3b8c",
   "metadata": {},
   "outputs": [],
   "source": []
  }
 ],
 "metadata": {
  "kernelspec": {
   "display_name": "Python 3 (ipykernel)",
   "language": "python",
   "name": "python3"
  },
  "language_info": {
   "codemirror_mode": {
    "name": "ipython",
    "version": 3
   },
   "file_extension": ".py",
   "mimetype": "text/x-python",
   "name": "python",
   "nbconvert_exporter": "python",
   "pygments_lexer": "ipython3",
   "version": "3.12.4"
  }
 },
 "nbformat": 4,
 "nbformat_minor": 5
}
