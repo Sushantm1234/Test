{
 "cells": [
  {
   "cell_type": "markdown",
   "id": "e891bbc4-88d6-4ea2-a34d-0b645139fe14",
   "metadata": {},
   "source": [
    "## **Title -: ELB Sales Analysis**"
   ]
  },
  {
   "cell_type": "markdown",
   "id": "99dbf093-9143-4dd7-9f1b-5540fe5ebb82",
   "metadata": {},
   "source": [
    "#### **Questions -**\n",
    "1. What was the highest-selling product in September?\n",
    "2. Which product had the highest sales for the \"CND Chennai\" sales team in May?\n",
    "3. Which customer had the maximum stock returns in June for the Bangalore HQ?\n",
    "4. Which sales team had the maximum percentage of primary sales returned due to expiry?\n",
    "5. What percentage of overall primary sales was a􀆯ected by breakage?\n",
    "6. What were the primary sales for the Delhi HQ in the month of September?\n",
    "7. What were the sales of \"Britorva 20\" in September for PALEPU PHARMA DIST PVT LTD under Coimbatore HQ?\n",
    "\n",
    "#### **Bonus -**\n",
    "1. What is the forecasted value of primary sales for the October month?\n",
    "2. Which product had the highest forecasted sales for the \"CND Chennai\" sales team in November?\n",
    "3. What were the forecasted sales of \"Britorva 20\" in October under Coimbatore HQ?"
   ]
  },
  {
   "cell_type": "markdown",
   "id": "85645e15-f705-488f-b72c-a04ea5dbc147",
   "metadata": {},
   "source": [
    "### Introduction"
   ]
  },
  {
   "cell_type": "markdown",
   "id": "b5267a51-7973-4237-92e7-57d0f577d02a",
   "metadata": {},
   "source": [
    "This report answers specific business questions using the ELB-Sales-Data dataset. The analysis focuses on identifying key metrics such as the highest-selling product, sales team performance, and the impact of returns.\n"
   ]
  },
  {
   "cell_type": "markdown",
   "id": "4242b8e5-6a85-4abf-940c-d06ae963e0d9",
   "metadata": {},
   "source": [
    "### Import Libraries"
   ]
  },
  {
   "cell_type": "code",
   "execution_count": 6,
   "id": "74f0746d-7aba-4ebd-b7ae-01230b6cf911",
   "metadata": {},
   "outputs": [],
   "source": [
    "# Importing the basic libraries\n",
    "import numpy as np\n",
    "import pandas as pd\n",
    "import matplotlib.pyplot as plt\n",
    "import seaborn as sns\n",
    "import warnings\n",
    "warnings.filterwarnings('ignore')"
   ]
  },
  {
   "cell_type": "code",
   "execution_count": 7,
   "id": "4ecdff2c-9e82-4eaf-b58e-832b4bf9f4db",
   "metadata": {},
   "outputs": [],
   "source": [
    "# set display for all rows and columns \n",
    "pd.set_option(\"display.max_rows\", None)\n",
    "pd.set_option(\"display.max_columns\", None)"
   ]
  },
  {
   "cell_type": "markdown",
   "id": "a2106527-bbf9-454a-9c78-024601430446",
   "metadata": {},
   "source": [
    "### Import Dataset"
   ]
  },
  {
   "cell_type": "code",
   "execution_count": 9,
   "id": "121eb21d-e44c-4056-9551-57ec2546e746",
   "metadata": {},
   "outputs": [],
   "source": [
    "# Importing the ELB excel file\n",
    "df = pd.read_excel(\"ELB-Sales-Data.xlsx\")"
   ]
  },
  {
   "cell_type": "code",
   "execution_count": 10,
   "id": "9a9c6683-f0b9-4bc8-8576-8257d929abf1",
   "metadata": {},
   "outputs": [
    {
     "data": {
      "text/html": [
       "<div>\n",
       "<style scoped>\n",
       "    .dataframe tbody tr th:only-of-type {\n",
       "        vertical-align: middle;\n",
       "    }\n",
       "\n",
       "    .dataframe tbody tr th {\n",
       "        vertical-align: top;\n",
       "    }\n",
       "\n",
       "    .dataframe thead th {\n",
       "        text-align: right;\n",
       "    }\n",
       "</style>\n",
       "<table border=\"1\" class=\"dataframe\">\n",
       "  <thead>\n",
       "    <tr style=\"text-align: right;\">\n",
       "      <th></th>\n",
       "      <th>Sr</th>\n",
       "      <th>ID</th>\n",
       "      <th>Customer</th>\n",
       "      <th>Primary Sales</th>\n",
       "      <th>Cancelled</th>\n",
       "      <th>Is added to primary log</th>\n",
       "      <th>Against Expiry</th>\n",
       "      <th>Breakage</th>\n",
       "      <th>Claim Offer</th>\n",
       "      <th>Quantity</th>\n",
       "      <th>Net Rate</th>\n",
       "      <th>Free Item</th>\n",
       "      <th>HQ</th>\n",
       "      <th>Sales Team</th>\n",
       "      <th>Return for Reason</th>\n",
       "      <th>Sales Return</th>\n",
       "      <th>Sales Invoice Name</th>\n",
       "      <th>Rate Difference</th>\n",
       "      <th>Item Name</th>\n",
       "      <th>Free Item Value</th>\n",
       "      <th>Date</th>\n",
       "    </tr>\n",
       "  </thead>\n",
       "  <tbody>\n",
       "    <tr>\n",
       "      <th>0</th>\n",
       "      <td>9354</td>\n",
       "      <td>SL-10-24-268441</td>\n",
       "      <td>SESHABALAJEE MEDISOLUTIONS PVT LTD</td>\n",
       "      <td>135.08</td>\n",
       "      <td>1</td>\n",
       "      <td>1</td>\n",
       "      <td>135.08</td>\n",
       "      <td>0.0</td>\n",
       "      <td>0.0</td>\n",
       "      <td>-4</td>\n",
       "      <td>33.77</td>\n",
       "      <td>0</td>\n",
       "      <td>HQ-Vizag</td>\n",
       "      <td>Elbrit AP</td>\n",
       "      <td>Expired</td>\n",
       "      <td>0.0</td>\n",
       "      <td>SINV-24-01509</td>\n",
       "      <td>0.0</td>\n",
       "      <td>TELBRIT 20</td>\n",
       "      <td>0.0</td>\n",
       "      <td>2024-09-23</td>\n",
       "    </tr>\n",
       "    <tr>\n",
       "      <th>1</th>\n",
       "      <td>9355</td>\n",
       "      <td>SL-10-24-268440</td>\n",
       "      <td>SESHABALAJEE MEDISOLUTIONS PVT LTD</td>\n",
       "      <td>413.80</td>\n",
       "      <td>1</td>\n",
       "      <td>1</td>\n",
       "      <td>413.80</td>\n",
       "      <td>0.0</td>\n",
       "      <td>0.0</td>\n",
       "      <td>-4</td>\n",
       "      <td>103.45</td>\n",
       "      <td>0</td>\n",
       "      <td>HQ-Vizag</td>\n",
       "      <td>Elbrit AP</td>\n",
       "      <td>Expired</td>\n",
       "      <td>0.0</td>\n",
       "      <td>SINV-24-01509</td>\n",
       "      <td>0.0</td>\n",
       "      <td>DAFAX M 5</td>\n",
       "      <td>0.0</td>\n",
       "      <td>2024-09-23</td>\n",
       "    </tr>\n",
       "    <tr>\n",
       "      <th>2</th>\n",
       "      <td>9356</td>\n",
       "      <td>SL-10-24-268439</td>\n",
       "      <td>SESHABALAJEE MEDISOLUTIONS PVT LTD</td>\n",
       "      <td>210.38</td>\n",
       "      <td>1</td>\n",
       "      <td>1</td>\n",
       "      <td>210.38</td>\n",
       "      <td>0.0</td>\n",
       "      <td>0.0</td>\n",
       "      <td>-2</td>\n",
       "      <td>105.19</td>\n",
       "      <td>0</td>\n",
       "      <td>HQ-Vizag</td>\n",
       "      <td>Elbrit AP</td>\n",
       "      <td>Expired</td>\n",
       "      <td>0.0</td>\n",
       "      <td>SINV-24-01509</td>\n",
       "      <td>0.0</td>\n",
       "      <td>TELBRIT AM</td>\n",
       "      <td>0.0</td>\n",
       "      <td>2024-09-23</td>\n",
       "    </tr>\n",
       "    <tr>\n",
       "      <th>3</th>\n",
       "      <td>9357</td>\n",
       "      <td>SL-10-24-268438</td>\n",
       "      <td>SESHABALAJEE MEDISOLUTIONS PVT LTD</td>\n",
       "      <td>105.19</td>\n",
       "      <td>1</td>\n",
       "      <td>1</td>\n",
       "      <td>105.19</td>\n",
       "      <td>0.0</td>\n",
       "      <td>0.0</td>\n",
       "      <td>-1</td>\n",
       "      <td>105.19</td>\n",
       "      <td>0</td>\n",
       "      <td>HQ-Vizag</td>\n",
       "      <td>Elbrit AP</td>\n",
       "      <td>Expired</td>\n",
       "      <td>0.0</td>\n",
       "      <td>SINV-24-01509</td>\n",
       "      <td>0.0</td>\n",
       "      <td>TELBRIT H</td>\n",
       "      <td>0.0</td>\n",
       "      <td>2024-09-23</td>\n",
       "    </tr>\n",
       "    <tr>\n",
       "      <th>4</th>\n",
       "      <td>9358</td>\n",
       "      <td>SL-10-24-268437</td>\n",
       "      <td>SESHABALAJEE MEDISOLUTIONS PVT LTD</td>\n",
       "      <td>978.30</td>\n",
       "      <td>1</td>\n",
       "      <td>1</td>\n",
       "      <td>978.30</td>\n",
       "      <td>0.0</td>\n",
       "      <td>0.0</td>\n",
       "      <td>-9</td>\n",
       "      <td>108.70</td>\n",
       "      <td>0</td>\n",
       "      <td>HQ-Vizag</td>\n",
       "      <td>Elbrit AP</td>\n",
       "      <td>Expired</td>\n",
       "      <td>0.0</td>\n",
       "      <td>SINV-24-01509</td>\n",
       "      <td>0.0</td>\n",
       "      <td>TRIGLIMIBRIT 1.3</td>\n",
       "      <td>0.0</td>\n",
       "      <td>2024-09-23</td>\n",
       "    </tr>\n",
       "  </tbody>\n",
       "</table>\n",
       "</div>"
      ],
      "text/plain": [
       "     Sr               ID                            Customer  Primary Sales  \\\n",
       "0  9354  SL-10-24-268441  SESHABALAJEE MEDISOLUTIONS PVT LTD         135.08   \n",
       "1  9355  SL-10-24-268440  SESHABALAJEE MEDISOLUTIONS PVT LTD         413.80   \n",
       "2  9356  SL-10-24-268439  SESHABALAJEE MEDISOLUTIONS PVT LTD         210.38   \n",
       "3  9357  SL-10-24-268438  SESHABALAJEE MEDISOLUTIONS PVT LTD         105.19   \n",
       "4  9358  SL-10-24-268437  SESHABALAJEE MEDISOLUTIONS PVT LTD         978.30   \n",
       "\n",
       "   Cancelled  Is added to primary log  Against Expiry  Breakage  Claim Offer  \\\n",
       "0          1                        1          135.08       0.0          0.0   \n",
       "1          1                        1          413.80       0.0          0.0   \n",
       "2          1                        1          210.38       0.0          0.0   \n",
       "3          1                        1          105.19       0.0          0.0   \n",
       "4          1                        1          978.30       0.0          0.0   \n",
       "\n",
       "   Quantity  Net Rate  Free Item        HQ Sales Team Return for Reason  \\\n",
       "0        -4     33.77          0  HQ-Vizag  Elbrit AP           Expired   \n",
       "1        -4    103.45          0  HQ-Vizag  Elbrit AP           Expired   \n",
       "2        -2    105.19          0  HQ-Vizag  Elbrit AP           Expired   \n",
       "3        -1    105.19          0  HQ-Vizag  Elbrit AP           Expired   \n",
       "4        -9    108.70          0  HQ-Vizag  Elbrit AP           Expired   \n",
       "\n",
       "   Sales Return Sales Invoice Name  Rate Difference         Item Name  \\\n",
       "0           0.0      SINV-24-01509              0.0        TELBRIT 20   \n",
       "1           0.0      SINV-24-01509              0.0         DAFAX M 5   \n",
       "2           0.0      SINV-24-01509              0.0        TELBRIT AM   \n",
       "3           0.0      SINV-24-01509              0.0         TELBRIT H   \n",
       "4           0.0      SINV-24-01509              0.0  TRIGLIMIBRIT 1.3   \n",
       "\n",
       "   Free Item Value       Date  \n",
       "0              0.0 2024-09-23  \n",
       "1              0.0 2024-09-23  \n",
       "2              0.0 2024-09-23  \n",
       "3              0.0 2024-09-23  \n",
       "4              0.0 2024-09-23  "
      ]
     },
     "execution_count": 10,
     "metadata": {},
     "output_type": "execute_result"
    }
   ],
   "source": [
    "# read the first five rows of dataset\n",
    "df.head()"
   ]
  },
  {
   "cell_type": "markdown",
   "id": "47a3afce-d769-46b0-9228-18f50130bd18",
   "metadata": {},
   "source": [
    "### Data Cleaning and Preprocessing"
   ]
  },
  {
   "cell_type": "code",
   "execution_count": 12,
   "id": "4603d947-b74e-4166-9597-c0655fe96358",
   "metadata": {},
   "outputs": [
    {
     "data": {
      "text/html": [
       "<div>\n",
       "<style scoped>\n",
       "    .dataframe tbody tr th:only-of-type {\n",
       "        vertical-align: middle;\n",
       "    }\n",
       "\n",
       "    .dataframe tbody tr th {\n",
       "        vertical-align: top;\n",
       "    }\n",
       "\n",
       "    .dataframe thead th {\n",
       "        text-align: right;\n",
       "    }\n",
       "</style>\n",
       "<table border=\"1\" class=\"dataframe\">\n",
       "  <thead>\n",
       "    <tr style=\"text-align: right;\">\n",
       "      <th></th>\n",
       "      <th>Sr</th>\n",
       "      <th>ID</th>\n",
       "      <th>Customer</th>\n",
       "      <th>Primary Sales</th>\n",
       "      <th>Cancelled</th>\n",
       "      <th>Is added to primary log</th>\n",
       "      <th>Against Expiry</th>\n",
       "      <th>Breakage</th>\n",
       "      <th>Claim Offer</th>\n",
       "      <th>Quantity</th>\n",
       "      <th>Net Rate</th>\n",
       "      <th>Free Item</th>\n",
       "      <th>HQ</th>\n",
       "      <th>Sales Team</th>\n",
       "      <th>Return for Reason</th>\n",
       "      <th>Sales Return</th>\n",
       "      <th>Sales Invoice Name</th>\n",
       "      <th>Rate Difference</th>\n",
       "      <th>Item Name</th>\n",
       "      <th>Free Item Value</th>\n",
       "      <th>Date</th>\n",
       "    </tr>\n",
       "  </thead>\n",
       "  <tbody>\n",
       "    <tr>\n",
       "      <th>0</th>\n",
       "      <td>9354</td>\n",
       "      <td>SL-10-24-268441</td>\n",
       "      <td>SESHABALAJEE MEDISOLUTIONS PVT LTD</td>\n",
       "      <td>135.08</td>\n",
       "      <td>1</td>\n",
       "      <td>1</td>\n",
       "      <td>135.08</td>\n",
       "      <td>0.0</td>\n",
       "      <td>0.0</td>\n",
       "      <td>-4</td>\n",
       "      <td>33.77</td>\n",
       "      <td>0</td>\n",
       "      <td>HQ-Vizag</td>\n",
       "      <td>Elbrit AP</td>\n",
       "      <td>Expired</td>\n",
       "      <td>0.0</td>\n",
       "      <td>SINV-24-01509</td>\n",
       "      <td>0.0</td>\n",
       "      <td>TELBRIT 20</td>\n",
       "      <td>0.0</td>\n",
       "      <td>2024-09-23</td>\n",
       "    </tr>\n",
       "    <tr>\n",
       "      <th>1</th>\n",
       "      <td>9355</td>\n",
       "      <td>SL-10-24-268440</td>\n",
       "      <td>SESHABALAJEE MEDISOLUTIONS PVT LTD</td>\n",
       "      <td>413.80</td>\n",
       "      <td>1</td>\n",
       "      <td>1</td>\n",
       "      <td>413.80</td>\n",
       "      <td>0.0</td>\n",
       "      <td>0.0</td>\n",
       "      <td>-4</td>\n",
       "      <td>103.45</td>\n",
       "      <td>0</td>\n",
       "      <td>HQ-Vizag</td>\n",
       "      <td>Elbrit AP</td>\n",
       "      <td>Expired</td>\n",
       "      <td>0.0</td>\n",
       "      <td>SINV-24-01509</td>\n",
       "      <td>0.0</td>\n",
       "      <td>DAFAX M 5</td>\n",
       "      <td>0.0</td>\n",
       "      <td>2024-09-23</td>\n",
       "    </tr>\n",
       "  </tbody>\n",
       "</table>\n",
       "</div>"
      ],
      "text/plain": [
       "     Sr               ID                            Customer  Primary Sales  \\\n",
       "0  9354  SL-10-24-268441  SESHABALAJEE MEDISOLUTIONS PVT LTD         135.08   \n",
       "1  9355  SL-10-24-268440  SESHABALAJEE MEDISOLUTIONS PVT LTD         413.80   \n",
       "\n",
       "   Cancelled  Is added to primary log  Against Expiry  Breakage  Claim Offer  \\\n",
       "0          1                        1          135.08       0.0          0.0   \n",
       "1          1                        1          413.80       0.0          0.0   \n",
       "\n",
       "   Quantity  Net Rate  Free Item        HQ Sales Team Return for Reason  \\\n",
       "0        -4     33.77          0  HQ-Vizag  Elbrit AP           Expired   \n",
       "1        -4    103.45          0  HQ-Vizag  Elbrit AP           Expired   \n",
       "\n",
       "   Sales Return Sales Invoice Name  Rate Difference   Item Name  \\\n",
       "0           0.0      SINV-24-01509              0.0  TELBRIT 20   \n",
       "1           0.0      SINV-24-01509              0.0   DAFAX M 5   \n",
       "\n",
       "   Free Item Value       Date  \n",
       "0              0.0 2024-09-23  \n",
       "1              0.0 2024-09-23  "
      ]
     },
     "execution_count": 12,
     "metadata": {},
     "output_type": "execute_result"
    }
   ],
   "source": [
    "df.head(2)"
   ]
  },
  {
   "cell_type": "code",
   "execution_count": 13,
   "id": "1cb1d0ff-dab5-4b6c-b835-d6b1b491fe04",
   "metadata": {},
   "outputs": [
    {
     "data": {
      "text/plain": [
       "(107444, 21)"
      ]
     },
     "execution_count": 13,
     "metadata": {},
     "output_type": "execute_result"
    }
   ],
   "source": [
    "# shape of rows and columns\n",
    "df.shape"
   ]
  },
  {
   "cell_type": "code",
   "execution_count": 14,
   "id": "14ac98a6-e88e-405f-9907-146f82d4cee0",
   "metadata": {},
   "outputs": [
    {
     "data": {
      "text/plain": [
       "Index(['Sr', 'ID', 'Customer', 'Primary Sales', 'Cancelled',\n",
       "       'Is added to primary log', 'Against Expiry', 'Breakage', 'Claim Offer',\n",
       "       'Quantity', 'Net Rate', 'Free Item', 'HQ', 'Sales Team',\n",
       "       'Return for Reason', 'Sales Return', 'Sales Invoice Name',\n",
       "       'Rate Difference', 'Item Name', 'Free Item Value', 'Date'],\n",
       "      dtype='object')"
      ]
     },
     "execution_count": 14,
     "metadata": {},
     "output_type": "execute_result"
    }
   ],
   "source": [
    "# display the column names\n",
    "df.columns"
   ]
  },
  {
   "cell_type": "code",
   "execution_count": 15,
   "id": "f8327e83-f760-4b03-91f9-9a2029055cdd",
   "metadata": {},
   "outputs": [
    {
     "name": "stdout",
     "output_type": "stream",
     "text": [
      "<class 'pandas.core.frame.DataFrame'>\n",
      "RangeIndex: 107444 entries, 0 to 107443\n",
      "Data columns (total 21 columns):\n",
      " #   Column                   Non-Null Count   Dtype         \n",
      "---  ------                   --------------   -----         \n",
      " 0   Sr                       107444 non-null  int64         \n",
      " 1   ID                       107444 non-null  object        \n",
      " 2   Customer                 107444 non-null  object        \n",
      " 3   Primary Sales            107444 non-null  float64       \n",
      " 4   Cancelled                107444 non-null  int64         \n",
      " 5   Is added to primary log  107444 non-null  int64         \n",
      " 6   Against Expiry           107444 non-null  float64       \n",
      " 7   Breakage                 107444 non-null  float64       \n",
      " 8   Claim Offer              107444 non-null  float64       \n",
      " 9   Quantity                 107444 non-null  int64         \n",
      " 10  Net Rate                 107444 non-null  float64       \n",
      " 11  Free Item                107444 non-null  int64         \n",
      " 12  HQ                       107264 non-null  object        \n",
      " 13  Sales Team               107264 non-null  object        \n",
      " 14  Return for Reason        18144 non-null   object        \n",
      " 15  Sales Return             107444 non-null  float64       \n",
      " 16  Sales Invoice Name       107442 non-null  object        \n",
      " 17  Rate Difference          107444 non-null  float64       \n",
      " 18  Item Name                107444 non-null  object        \n",
      " 19  Free Item Value          107444 non-null  float64       \n",
      " 20  Date                     107444 non-null  datetime64[ns]\n",
      "dtypes: datetime64[ns](1), float64(8), int64(5), object(7)\n",
      "memory usage: 17.2+ MB\n"
     ]
    }
   ],
   "source": [
    "# details information of dataset\n",
    "df.info()"
   ]
  },
  {
   "cell_type": "code",
   "execution_count": 16,
   "id": "36955f25-870a-4590-8585-de37052f7e14",
   "metadata": {},
   "outputs": [
    {
     "data": {
      "text/plain": [
       "Sr                             0\n",
       "ID                             0\n",
       "Customer                       0\n",
       "Primary Sales                  0\n",
       "Cancelled                      0\n",
       "Is added to primary log        0\n",
       "Against Expiry                 0\n",
       "Breakage                       0\n",
       "Claim Offer                    0\n",
       "Quantity                       0\n",
       "Net Rate                       0\n",
       "Free Item                      0\n",
       "HQ                           180\n",
       "Sales Team                   180\n",
       "Return for Reason          89300\n",
       "Sales Return                   0\n",
       "Sales Invoice Name             2\n",
       "Rate Difference                0\n",
       "Item Name                      0\n",
       "Free Item Value                0\n",
       "Date                           0\n",
       "dtype: int64"
      ]
     },
     "execution_count": 16,
     "metadata": {},
     "output_type": "execute_result"
    }
   ],
   "source": [
    "# checking null and missing values\n",
    "df.isnull().sum()"
   ]
  },
  {
   "cell_type": "code",
   "execution_count": 17,
   "id": "d58818e9-425a-4eeb-a098-969cdc6da8d2",
   "metadata": {},
   "outputs": [
    {
     "data": {
      "text/plain": [
       "Sr                          0.000000\n",
       "ID                          0.000000\n",
       "Customer                    0.000000\n",
       "Primary Sales               0.000000\n",
       "Cancelled                   0.000000\n",
       "Is added to primary log     0.000000\n",
       "Against Expiry              0.000000\n",
       "Breakage                    0.000000\n",
       "Claim Offer                 0.000000\n",
       "Quantity                    0.000000\n",
       "Net Rate                    0.000000\n",
       "Free Item                   0.000000\n",
       "HQ                          0.167529\n",
       "Sales Team                  0.167529\n",
       "Return for Reason          83.113064\n",
       "Sales Return                0.000000\n",
       "Sales Invoice Name          0.001861\n",
       "Rate Difference             0.000000\n",
       "Item Name                   0.000000\n",
       "Free Item Value             0.000000\n",
       "Date                        0.000000\n",
       "dtype: float64"
      ]
     },
     "execution_count": 17,
     "metadata": {},
     "output_type": "execute_result"
    }
   ],
   "source": [
    "df.isnull().mean()*100"
   ]
  },
  {
   "cell_type": "code",
   "execution_count": 18,
   "id": "0765eeb4-d139-44ba-818d-658c79cbc84f",
   "metadata": {},
   "outputs": [],
   "source": [
    "# drop 'Return for Reason' column \n",
    "df.drop(columns=['Return for Reason'], inplace=True)"
   ]
  },
  {
   "cell_type": "code",
   "execution_count": 19,
   "id": "e0670714-ddb4-4c1b-bd8b-58350f591386",
   "metadata": {},
   "outputs": [
    {
     "data": {
      "text/html": [
       "<div>\n",
       "<style scoped>\n",
       "    .dataframe tbody tr th:only-of-type {\n",
       "        vertical-align: middle;\n",
       "    }\n",
       "\n",
       "    .dataframe tbody tr th {\n",
       "        vertical-align: top;\n",
       "    }\n",
       "\n",
       "    .dataframe thead th {\n",
       "        text-align: right;\n",
       "    }\n",
       "</style>\n",
       "<table border=\"1\" class=\"dataframe\">\n",
       "  <thead>\n",
       "    <tr style=\"text-align: right;\">\n",
       "      <th></th>\n",
       "      <th>Sr</th>\n",
       "      <th>ID</th>\n",
       "      <th>Customer</th>\n",
       "      <th>Primary Sales</th>\n",
       "      <th>Cancelled</th>\n",
       "      <th>Is added to primary log</th>\n",
       "      <th>Against Expiry</th>\n",
       "      <th>Breakage</th>\n",
       "      <th>Claim Offer</th>\n",
       "      <th>Quantity</th>\n",
       "      <th>Net Rate</th>\n",
       "      <th>Free Item</th>\n",
       "      <th>HQ</th>\n",
       "      <th>Sales Team</th>\n",
       "      <th>Sales Return</th>\n",
       "      <th>Sales Invoice Name</th>\n",
       "      <th>Rate Difference</th>\n",
       "      <th>Item Name</th>\n",
       "      <th>Free Item Value</th>\n",
       "      <th>Date</th>\n",
       "    </tr>\n",
       "  </thead>\n",
       "  <tbody>\n",
       "    <tr>\n",
       "      <th>0</th>\n",
       "      <td>9354</td>\n",
       "      <td>SL-10-24-268441</td>\n",
       "      <td>SESHABALAJEE MEDISOLUTIONS PVT LTD</td>\n",
       "      <td>135.08</td>\n",
       "      <td>1</td>\n",
       "      <td>1</td>\n",
       "      <td>135.08</td>\n",
       "      <td>0.0</td>\n",
       "      <td>0.0</td>\n",
       "      <td>-4</td>\n",
       "      <td>33.77</td>\n",
       "      <td>0</td>\n",
       "      <td>HQ-Vizag</td>\n",
       "      <td>Elbrit AP</td>\n",
       "      <td>0.0</td>\n",
       "      <td>SINV-24-01509</td>\n",
       "      <td>0.0</td>\n",
       "      <td>TELBRIT 20</td>\n",
       "      <td>0.0</td>\n",
       "      <td>2024-09-23</td>\n",
       "    </tr>\n",
       "    <tr>\n",
       "      <th>1</th>\n",
       "      <td>9355</td>\n",
       "      <td>SL-10-24-268440</td>\n",
       "      <td>SESHABALAJEE MEDISOLUTIONS PVT LTD</td>\n",
       "      <td>413.80</td>\n",
       "      <td>1</td>\n",
       "      <td>1</td>\n",
       "      <td>413.80</td>\n",
       "      <td>0.0</td>\n",
       "      <td>0.0</td>\n",
       "      <td>-4</td>\n",
       "      <td>103.45</td>\n",
       "      <td>0</td>\n",
       "      <td>HQ-Vizag</td>\n",
       "      <td>Elbrit AP</td>\n",
       "      <td>0.0</td>\n",
       "      <td>SINV-24-01509</td>\n",
       "      <td>0.0</td>\n",
       "      <td>DAFAX M 5</td>\n",
       "      <td>0.0</td>\n",
       "      <td>2024-09-23</td>\n",
       "    </tr>\n",
       "  </tbody>\n",
       "</table>\n",
       "</div>"
      ],
      "text/plain": [
       "     Sr               ID                            Customer  Primary Sales  \\\n",
       "0  9354  SL-10-24-268441  SESHABALAJEE MEDISOLUTIONS PVT LTD         135.08   \n",
       "1  9355  SL-10-24-268440  SESHABALAJEE MEDISOLUTIONS PVT LTD         413.80   \n",
       "\n",
       "   Cancelled  Is added to primary log  Against Expiry  Breakage  Claim Offer  \\\n",
       "0          1                        1          135.08       0.0          0.0   \n",
       "1          1                        1          413.80       0.0          0.0   \n",
       "\n",
       "   Quantity  Net Rate  Free Item        HQ Sales Team  Sales Return  \\\n",
       "0        -4     33.77          0  HQ-Vizag  Elbrit AP           0.0   \n",
       "1        -4    103.45          0  HQ-Vizag  Elbrit AP           0.0   \n",
       "\n",
       "  Sales Invoice Name  Rate Difference   Item Name  Free Item Value       Date  \n",
       "0      SINV-24-01509              0.0  TELBRIT 20              0.0 2024-09-23  \n",
       "1      SINV-24-01509              0.0   DAFAX M 5              0.0 2024-09-23  "
      ]
     },
     "execution_count": 19,
     "metadata": {},
     "output_type": "execute_result"
    }
   ],
   "source": [
    "df.head(2)"
   ]
  },
  {
   "cell_type": "code",
   "execution_count": 20,
   "id": "97e987e7-352c-43a8-9908-075969924213",
   "metadata": {},
   "outputs": [],
   "source": [
    "# fill the missing values of 'HQ', 'Sales Team' and 'Sales Invoice Name'\n",
    "df['HQ'] = df['HQ'].fillna(df['HQ'].mode()[0])\n",
    "df['Sales Team'] = df['Sales Team'].fillna(df['Sales Team'].mode()[0])\n",
    "df['Sales Invoice Name'] = df['Sales Invoice Name'].fillna(df['Sales Invoice Name'].mode()[0])"
   ]
  },
  {
   "cell_type": "code",
   "execution_count": 21,
   "id": "44ac3b1f-75ea-40c2-8938-0008084b0eb1",
   "metadata": {},
   "outputs": [
    {
     "data": {
      "text/plain": [
       "Sr                         0\n",
       "ID                         0\n",
       "Customer                   0\n",
       "Primary Sales              0\n",
       "Cancelled                  0\n",
       "Is added to primary log    0\n",
       "Against Expiry             0\n",
       "Breakage                   0\n",
       "Claim Offer                0\n",
       "Quantity                   0\n",
       "Net Rate                   0\n",
       "Free Item                  0\n",
       "HQ                         0\n",
       "Sales Team                 0\n",
       "Sales Return               0\n",
       "Sales Invoice Name         0\n",
       "Rate Difference            0\n",
       "Item Name                  0\n",
       "Free Item Value            0\n",
       "Date                       0\n",
       "dtype: int64"
      ]
     },
     "execution_count": 21,
     "metadata": {},
     "output_type": "execute_result"
    }
   ],
   "source": [
    "df.isnull().sum()"
   ]
  },
  {
   "cell_type": "code",
   "execution_count": 22,
   "id": "2b4e1abd-e811-45d9-afa7-84ce43aef875",
   "metadata": {},
   "outputs": [
    {
     "data": {
      "text/html": [
       "<div>\n",
       "<style scoped>\n",
       "    .dataframe tbody tr th:only-of-type {\n",
       "        vertical-align: middle;\n",
       "    }\n",
       "\n",
       "    .dataframe tbody tr th {\n",
       "        vertical-align: top;\n",
       "    }\n",
       "\n",
       "    .dataframe thead th {\n",
       "        text-align: right;\n",
       "    }\n",
       "</style>\n",
       "<table border=\"1\" class=\"dataframe\">\n",
       "  <thead>\n",
       "    <tr style=\"text-align: right;\">\n",
       "      <th></th>\n",
       "      <th>Sr</th>\n",
       "      <th>ID</th>\n",
       "      <th>Customer</th>\n",
       "      <th>Primary Sales</th>\n",
       "      <th>Cancelled</th>\n",
       "      <th>Is added to primary log</th>\n",
       "      <th>Against Expiry</th>\n",
       "      <th>Breakage</th>\n",
       "      <th>Claim Offer</th>\n",
       "      <th>Quantity</th>\n",
       "      <th>Net Rate</th>\n",
       "      <th>Free Item</th>\n",
       "      <th>HQ</th>\n",
       "      <th>Sales Team</th>\n",
       "      <th>Sales Return</th>\n",
       "      <th>Sales Invoice Name</th>\n",
       "      <th>Rate Difference</th>\n",
       "      <th>Item Name</th>\n",
       "      <th>Free Item Value</th>\n",
       "      <th>Date</th>\n",
       "    </tr>\n",
       "  </thead>\n",
       "  <tbody>\n",
       "    <tr>\n",
       "      <th>0</th>\n",
       "      <td>9354</td>\n",
       "      <td>SL-10-24-268441</td>\n",
       "      <td>SESHABALAJEE MEDISOLUTIONS PVT LTD</td>\n",
       "      <td>135.08</td>\n",
       "      <td>1</td>\n",
       "      <td>1</td>\n",
       "      <td>135.08</td>\n",
       "      <td>0.0</td>\n",
       "      <td>0.0</td>\n",
       "      <td>-4</td>\n",
       "      <td>33.77</td>\n",
       "      <td>0</td>\n",
       "      <td>HQ-Vizag</td>\n",
       "      <td>Elbrit AP</td>\n",
       "      <td>0.0</td>\n",
       "      <td>SINV-24-01509</td>\n",
       "      <td>0.0</td>\n",
       "      <td>TELBRIT 20</td>\n",
       "      <td>0.0</td>\n",
       "      <td>2024-09-23</td>\n",
       "    </tr>\n",
       "    <tr>\n",
       "      <th>1</th>\n",
       "      <td>9355</td>\n",
       "      <td>SL-10-24-268440</td>\n",
       "      <td>SESHABALAJEE MEDISOLUTIONS PVT LTD</td>\n",
       "      <td>413.80</td>\n",
       "      <td>1</td>\n",
       "      <td>1</td>\n",
       "      <td>413.80</td>\n",
       "      <td>0.0</td>\n",
       "      <td>0.0</td>\n",
       "      <td>-4</td>\n",
       "      <td>103.45</td>\n",
       "      <td>0</td>\n",
       "      <td>HQ-Vizag</td>\n",
       "      <td>Elbrit AP</td>\n",
       "      <td>0.0</td>\n",
       "      <td>SINV-24-01509</td>\n",
       "      <td>0.0</td>\n",
       "      <td>DAFAX M 5</td>\n",
       "      <td>0.0</td>\n",
       "      <td>2024-09-23</td>\n",
       "    </tr>\n",
       "  </tbody>\n",
       "</table>\n",
       "</div>"
      ],
      "text/plain": [
       "     Sr               ID                            Customer  Primary Sales  \\\n",
       "0  9354  SL-10-24-268441  SESHABALAJEE MEDISOLUTIONS PVT LTD         135.08   \n",
       "1  9355  SL-10-24-268440  SESHABALAJEE MEDISOLUTIONS PVT LTD         413.80   \n",
       "\n",
       "   Cancelled  Is added to primary log  Against Expiry  Breakage  Claim Offer  \\\n",
       "0          1                        1          135.08       0.0          0.0   \n",
       "1          1                        1          413.80       0.0          0.0   \n",
       "\n",
       "   Quantity  Net Rate  Free Item        HQ Sales Team  Sales Return  \\\n",
       "0        -4     33.77          0  HQ-Vizag  Elbrit AP           0.0   \n",
       "1        -4    103.45          0  HQ-Vizag  Elbrit AP           0.0   \n",
       "\n",
       "  Sales Invoice Name  Rate Difference   Item Name  Free Item Value       Date  \n",
       "0      SINV-24-01509              0.0  TELBRIT 20              0.0 2024-09-23  \n",
       "1      SINV-24-01509              0.0   DAFAX M 5              0.0 2024-09-23  "
      ]
     },
     "execution_count": 22,
     "metadata": {},
     "output_type": "execute_result"
    }
   ],
   "source": [
    "df.head(2)"
   ]
  },
  {
   "cell_type": "code",
   "execution_count": 23,
   "id": "c895984e-3bf3-41fe-8904-dc1ffdb2ebcb",
   "metadata": {},
   "outputs": [
    {
     "data": {
      "text/plain": [
       "0"
      ]
     },
     "execution_count": 23,
     "metadata": {},
     "output_type": "execute_result"
    }
   ],
   "source": [
    "# checking duplicated rows from dataset\n",
    "df.duplicated().sum()"
   ]
  },
  {
   "cell_type": "markdown",
   "id": "27aea27e-9073-4bc4-a7f0-df44575009b2",
   "metadata": {},
   "source": [
    "### Exploratory Data Analysis and Data Visualization"
   ]
  },
  {
   "cell_type": "code",
   "execution_count": 25,
   "id": "5d58d088-bb70-462b-84e6-a0a677b1042a",
   "metadata": {},
   "outputs": [
    {
     "data": {
      "text/html": [
       "<div>\n",
       "<style scoped>\n",
       "    .dataframe tbody tr th:only-of-type {\n",
       "        vertical-align: middle;\n",
       "    }\n",
       "\n",
       "    .dataframe tbody tr th {\n",
       "        vertical-align: top;\n",
       "    }\n",
       "\n",
       "    .dataframe thead th {\n",
       "        text-align: right;\n",
       "    }\n",
       "</style>\n",
       "<table border=\"1\" class=\"dataframe\">\n",
       "  <thead>\n",
       "    <tr style=\"text-align: right;\">\n",
       "      <th></th>\n",
       "      <th>Sr</th>\n",
       "      <th>ID</th>\n",
       "      <th>Customer</th>\n",
       "      <th>Primary Sales</th>\n",
       "      <th>Cancelled</th>\n",
       "      <th>Is added to primary log</th>\n",
       "      <th>Against Expiry</th>\n",
       "      <th>Breakage</th>\n",
       "      <th>Claim Offer</th>\n",
       "      <th>Quantity</th>\n",
       "      <th>Net Rate</th>\n",
       "      <th>Free Item</th>\n",
       "      <th>HQ</th>\n",
       "      <th>Sales Team</th>\n",
       "      <th>Sales Return</th>\n",
       "      <th>Sales Invoice Name</th>\n",
       "      <th>Rate Difference</th>\n",
       "      <th>Item Name</th>\n",
       "      <th>Free Item Value</th>\n",
       "      <th>Date</th>\n",
       "    </tr>\n",
       "  </thead>\n",
       "  <tbody>\n",
       "    <tr>\n",
       "      <th>0</th>\n",
       "      <td>9354</td>\n",
       "      <td>SL-10-24-268441</td>\n",
       "      <td>SESHABALAJEE MEDISOLUTIONS PVT LTD</td>\n",
       "      <td>135.08</td>\n",
       "      <td>1</td>\n",
       "      <td>1</td>\n",
       "      <td>135.08</td>\n",
       "      <td>0.0</td>\n",
       "      <td>0.0</td>\n",
       "      <td>-4</td>\n",
       "      <td>33.77</td>\n",
       "      <td>0</td>\n",
       "      <td>HQ-Vizag</td>\n",
       "      <td>Elbrit AP</td>\n",
       "      <td>0.0</td>\n",
       "      <td>SINV-24-01509</td>\n",
       "      <td>0.0</td>\n",
       "      <td>TELBRIT 20</td>\n",
       "      <td>0.0</td>\n",
       "      <td>2024-09-23</td>\n",
       "    </tr>\n",
       "    <tr>\n",
       "      <th>1</th>\n",
       "      <td>9355</td>\n",
       "      <td>SL-10-24-268440</td>\n",
       "      <td>SESHABALAJEE MEDISOLUTIONS PVT LTD</td>\n",
       "      <td>413.80</td>\n",
       "      <td>1</td>\n",
       "      <td>1</td>\n",
       "      <td>413.80</td>\n",
       "      <td>0.0</td>\n",
       "      <td>0.0</td>\n",
       "      <td>-4</td>\n",
       "      <td>103.45</td>\n",
       "      <td>0</td>\n",
       "      <td>HQ-Vizag</td>\n",
       "      <td>Elbrit AP</td>\n",
       "      <td>0.0</td>\n",
       "      <td>SINV-24-01509</td>\n",
       "      <td>0.0</td>\n",
       "      <td>DAFAX M 5</td>\n",
       "      <td>0.0</td>\n",
       "      <td>2024-09-23</td>\n",
       "    </tr>\n",
       "  </tbody>\n",
       "</table>\n",
       "</div>"
      ],
      "text/plain": [
       "     Sr               ID                            Customer  Primary Sales  \\\n",
       "0  9354  SL-10-24-268441  SESHABALAJEE MEDISOLUTIONS PVT LTD         135.08   \n",
       "1  9355  SL-10-24-268440  SESHABALAJEE MEDISOLUTIONS PVT LTD         413.80   \n",
       "\n",
       "   Cancelled  Is added to primary log  Against Expiry  Breakage  Claim Offer  \\\n",
       "0          1                        1          135.08       0.0          0.0   \n",
       "1          1                        1          413.80       0.0          0.0   \n",
       "\n",
       "   Quantity  Net Rate  Free Item        HQ Sales Team  Sales Return  \\\n",
       "0        -4     33.77          0  HQ-Vizag  Elbrit AP           0.0   \n",
       "1        -4    103.45          0  HQ-Vizag  Elbrit AP           0.0   \n",
       "\n",
       "  Sales Invoice Name  Rate Difference   Item Name  Free Item Value       Date  \n",
       "0      SINV-24-01509              0.0  TELBRIT 20              0.0 2024-09-23  \n",
       "1      SINV-24-01509              0.0   DAFAX M 5              0.0 2024-09-23  "
      ]
     },
     "execution_count": 25,
     "metadata": {},
     "output_type": "execute_result"
    }
   ],
   "source": [
    "df.head(2)"
   ]
  },
  {
   "cell_type": "code",
   "execution_count": null,
   "id": "c87d13c9-b910-401b-9c2e-4ab22fff9b47",
   "metadata": {},
   "outputs": [],
   "source": []
  },
  {
   "cell_type": "markdown",
   "id": "c94f8f38-2f2f-4c7c-9737-15dee2c040b6",
   "metadata": {},
   "source": [
    "**1. What was the highest-selling product in September?**"
   ]
  },
  {
   "cell_type": "markdown",
   "id": "fd1ab35c-0c2e-4e01-ac8f-8ba8c96f090d",
   "metadata": {},
   "source": [
    "Extract Data for September"
   ]
  },
  {
   "cell_type": "code",
   "execution_count": 28,
   "id": "c6ab3907-b33a-4e2d-914c-1cf5904cf821",
   "metadata": {},
   "outputs": [
    {
     "data": {
      "text/html": [
       "<div>\n",
       "<style scoped>\n",
       "    .dataframe tbody tr th:only-of-type {\n",
       "        vertical-align: middle;\n",
       "    }\n",
       "\n",
       "    .dataframe tbody tr th {\n",
       "        vertical-align: top;\n",
       "    }\n",
       "\n",
       "    .dataframe thead th {\n",
       "        text-align: right;\n",
       "    }\n",
       "</style>\n",
       "<table border=\"1\" class=\"dataframe\">\n",
       "  <thead>\n",
       "    <tr style=\"text-align: right;\">\n",
       "      <th></th>\n",
       "      <th>Sr</th>\n",
       "      <th>ID</th>\n",
       "      <th>Customer</th>\n",
       "      <th>Primary Sales</th>\n",
       "      <th>Cancelled</th>\n",
       "      <th>Is added to primary log</th>\n",
       "      <th>Against Expiry</th>\n",
       "      <th>Breakage</th>\n",
       "      <th>Claim Offer</th>\n",
       "      <th>Quantity</th>\n",
       "      <th>Net Rate</th>\n",
       "      <th>Free Item</th>\n",
       "      <th>HQ</th>\n",
       "      <th>Sales Team</th>\n",
       "      <th>Sales Return</th>\n",
       "      <th>Sales Invoice Name</th>\n",
       "      <th>Rate Difference</th>\n",
       "      <th>Item Name</th>\n",
       "      <th>Free Item Value</th>\n",
       "      <th>Date</th>\n",
       "    </tr>\n",
       "  </thead>\n",
       "  <tbody>\n",
       "    <tr>\n",
       "      <th>0</th>\n",
       "      <td>9354</td>\n",
       "      <td>SL-10-24-268441</td>\n",
       "      <td>SESHABALAJEE MEDISOLUTIONS PVT LTD</td>\n",
       "      <td>135.08</td>\n",
       "      <td>1</td>\n",
       "      <td>1</td>\n",
       "      <td>135.08</td>\n",
       "      <td>0.0</td>\n",
       "      <td>0.0</td>\n",
       "      <td>-4</td>\n",
       "      <td>33.77</td>\n",
       "      <td>0</td>\n",
       "      <td>HQ-Vizag</td>\n",
       "      <td>Elbrit AP</td>\n",
       "      <td>0.0</td>\n",
       "      <td>SINV-24-01509</td>\n",
       "      <td>0.0</td>\n",
       "      <td>TELBRIT 20</td>\n",
       "      <td>0.0</td>\n",
       "      <td>2024-09-23</td>\n",
       "    </tr>\n",
       "    <tr>\n",
       "      <th>1</th>\n",
       "      <td>9355</td>\n",
       "      <td>SL-10-24-268440</td>\n",
       "      <td>SESHABALAJEE MEDISOLUTIONS PVT LTD</td>\n",
       "      <td>413.80</td>\n",
       "      <td>1</td>\n",
       "      <td>1</td>\n",
       "      <td>413.80</td>\n",
       "      <td>0.0</td>\n",
       "      <td>0.0</td>\n",
       "      <td>-4</td>\n",
       "      <td>103.45</td>\n",
       "      <td>0</td>\n",
       "      <td>HQ-Vizag</td>\n",
       "      <td>Elbrit AP</td>\n",
       "      <td>0.0</td>\n",
       "      <td>SINV-24-01509</td>\n",
       "      <td>0.0</td>\n",
       "      <td>DAFAX M 5</td>\n",
       "      <td>0.0</td>\n",
       "      <td>2024-09-23</td>\n",
       "    </tr>\n",
       "    <tr>\n",
       "      <th>2</th>\n",
       "      <td>9356</td>\n",
       "      <td>SL-10-24-268439</td>\n",
       "      <td>SESHABALAJEE MEDISOLUTIONS PVT LTD</td>\n",
       "      <td>210.38</td>\n",
       "      <td>1</td>\n",
       "      <td>1</td>\n",
       "      <td>210.38</td>\n",
       "      <td>0.0</td>\n",
       "      <td>0.0</td>\n",
       "      <td>-2</td>\n",
       "      <td>105.19</td>\n",
       "      <td>0</td>\n",
       "      <td>HQ-Vizag</td>\n",
       "      <td>Elbrit AP</td>\n",
       "      <td>0.0</td>\n",
       "      <td>SINV-24-01509</td>\n",
       "      <td>0.0</td>\n",
       "      <td>TELBRIT AM</td>\n",
       "      <td>0.0</td>\n",
       "      <td>2024-09-23</td>\n",
       "    </tr>\n",
       "    <tr>\n",
       "      <th>3</th>\n",
       "      <td>9357</td>\n",
       "      <td>SL-10-24-268438</td>\n",
       "      <td>SESHABALAJEE MEDISOLUTIONS PVT LTD</td>\n",
       "      <td>105.19</td>\n",
       "      <td>1</td>\n",
       "      <td>1</td>\n",
       "      <td>105.19</td>\n",
       "      <td>0.0</td>\n",
       "      <td>0.0</td>\n",
       "      <td>-1</td>\n",
       "      <td>105.19</td>\n",
       "      <td>0</td>\n",
       "      <td>HQ-Vizag</td>\n",
       "      <td>Elbrit AP</td>\n",
       "      <td>0.0</td>\n",
       "      <td>SINV-24-01509</td>\n",
       "      <td>0.0</td>\n",
       "      <td>TELBRIT H</td>\n",
       "      <td>0.0</td>\n",
       "      <td>2024-09-23</td>\n",
       "    </tr>\n",
       "    <tr>\n",
       "      <th>4</th>\n",
       "      <td>9358</td>\n",
       "      <td>SL-10-24-268437</td>\n",
       "      <td>SESHABALAJEE MEDISOLUTIONS PVT LTD</td>\n",
       "      <td>978.30</td>\n",
       "      <td>1</td>\n",
       "      <td>1</td>\n",
       "      <td>978.30</td>\n",
       "      <td>0.0</td>\n",
       "      <td>0.0</td>\n",
       "      <td>-9</td>\n",
       "      <td>108.70</td>\n",
       "      <td>0</td>\n",
       "      <td>HQ-Vizag</td>\n",
       "      <td>Elbrit AP</td>\n",
       "      <td>0.0</td>\n",
       "      <td>SINV-24-01509</td>\n",
       "      <td>0.0</td>\n",
       "      <td>TRIGLIMIBRIT 1.3</td>\n",
       "      <td>0.0</td>\n",
       "      <td>2024-09-23</td>\n",
       "    </tr>\n",
       "  </tbody>\n",
       "</table>\n",
       "</div>"
      ],
      "text/plain": [
       "     Sr               ID                            Customer  Primary Sales  \\\n",
       "0  9354  SL-10-24-268441  SESHABALAJEE MEDISOLUTIONS PVT LTD         135.08   \n",
       "1  9355  SL-10-24-268440  SESHABALAJEE MEDISOLUTIONS PVT LTD         413.80   \n",
       "2  9356  SL-10-24-268439  SESHABALAJEE MEDISOLUTIONS PVT LTD         210.38   \n",
       "3  9357  SL-10-24-268438  SESHABALAJEE MEDISOLUTIONS PVT LTD         105.19   \n",
       "4  9358  SL-10-24-268437  SESHABALAJEE MEDISOLUTIONS PVT LTD         978.30   \n",
       "\n",
       "   Cancelled  Is added to primary log  Against Expiry  Breakage  Claim Offer  \\\n",
       "0          1                        1          135.08       0.0          0.0   \n",
       "1          1                        1          413.80       0.0          0.0   \n",
       "2          1                        1          210.38       0.0          0.0   \n",
       "3          1                        1          105.19       0.0          0.0   \n",
       "4          1                        1          978.30       0.0          0.0   \n",
       "\n",
       "   Quantity  Net Rate  Free Item        HQ Sales Team  Sales Return  \\\n",
       "0        -4     33.77          0  HQ-Vizag  Elbrit AP           0.0   \n",
       "1        -4    103.45          0  HQ-Vizag  Elbrit AP           0.0   \n",
       "2        -2    105.19          0  HQ-Vizag  Elbrit AP           0.0   \n",
       "3        -1    105.19          0  HQ-Vizag  Elbrit AP           0.0   \n",
       "4        -9    108.70          0  HQ-Vizag  Elbrit AP           0.0   \n",
       "\n",
       "  Sales Invoice Name  Rate Difference         Item Name  Free Item Value  \\\n",
       "0      SINV-24-01509              0.0        TELBRIT 20              0.0   \n",
       "1      SINV-24-01509              0.0         DAFAX M 5              0.0   \n",
       "2      SINV-24-01509              0.0        TELBRIT AM              0.0   \n",
       "3      SINV-24-01509              0.0         TELBRIT H              0.0   \n",
       "4      SINV-24-01509              0.0  TRIGLIMIBRIT 1.3              0.0   \n",
       "\n",
       "        Date  \n",
       "0 2024-09-23  \n",
       "1 2024-09-23  \n",
       "2 2024-09-23  \n",
       "3 2024-09-23  \n",
       "4 2024-09-23  "
      ]
     },
     "execution_count": 28,
     "metadata": {},
     "output_type": "execute_result"
    }
   ],
   "source": [
    "# Ensure the 'Date' column is in datetime format\n",
    "df['Date'] = pd.to_datetime(df['Date'])\n",
    "\n",
    "# Filter data for September\n",
    "september_data = df[df['Date'].dt.month == 9]\n",
    "\n",
    "# Display September data to verify\n",
    "september_data.head()"
   ]
  },
  {
   "cell_type": "markdown",
   "id": "b9e19c49-059e-4ca6-a666-6c90b1de43bd",
   "metadata": {},
   "source": [
    " Calculate Total Sales for Each Product"
   ]
  },
  {
   "cell_type": "code",
   "execution_count": 30,
   "id": "680f4efb-4536-4f7c-8b0f-9850e04f362d",
   "metadata": {},
   "outputs": [
    {
     "data": {
      "text/plain": [
       "Item Name\n",
       "ACEBRIT MR               18514.80\n",
       "ACEBRIT P                63959.76\n",
       "AMOXIBRIT 625           329224.74\n",
       "ARNIBLOC 100            162966.70\n",
       "ARNIBLOC 50             381422.54\n",
       "AURAGEST SR 200         195696.00\n",
       "AURAGEST SR 300          -2082.84\n",
       "BENISTAR 4               93255.95\n",
       "BENISTAR 8               48585.67\n",
       "BISOBRIT 2.5            102491.71\n",
       "BISOBRIT 5               45690.01\n",
       "BISOBRIT AM 5             3974.98\n",
       "BISOBRIT T 2.5           48394.10\n",
       "BISOBRIT T 5             62712.28\n",
       "BRITORVA 10             191616.21\n",
       "BRITORVA 10F            170308.77\n",
       "BRITORVA 20              94506.07\n",
       "BRITORVA 40             191482.76\n",
       "BRITORVA 80             207407.80\n",
       "BRITORVA CV 10          579993.77\n",
       "BRITORVA CV 20            7483.20\n",
       "BRITVIT                 374876.01\n",
       "BRITVOG 0.2              78902.64\n",
       "BRITVOG 0.3             145376.50\n",
       "BRITVOG M 0.2            30318.51\n",
       "BRITVOG M 0.3            30874.38\n",
       "C FERT                  414081.06\n",
       "C FERT M                660362.28\n",
       "CALBRIT                 451065.15\n",
       "CALBRIT 60K             119657.23\n",
       "CALBRIT CT               91912.60\n",
       "CALBRIT PLUS            342952.26\n",
       "CARDI Q                  98358.00\n",
       "CARTITAB                318659.55\n",
       "CARTITAB C2             281386.28\n",
       "CARTITAB UC               9012.32\n",
       "CHLORVIX 12.5            34683.79\n",
       "CHLORVIX 6.25            23276.64\n",
       "CILNITAB 10             420095.63\n",
       "CILNITAB 20              74190.15\n",
       "CILNITAB 5              142008.72\n",
       "CILNITAB NB 10/2.5       71162.95\n",
       "CILNITAB NB 10/5        218545.09\n",
       "CILNITAB T 40           348861.22\n",
       "CITIBRIT FORTE          461182.85\n",
       "CITIBRIT PLUS            -3285.03\n",
       "CZD MAX                  15102.45\n",
       "DABITON 110             -10154.67\n",
       "DAFAX 10                550222.86\n",
       "DAFAX 5                  99906.90\n",
       "DAFAX M 10              234988.21\n",
       "DAFAX M 5                87649.18\n",
       "DAFAX S                 108884.99\n",
       "DAFAX TRIO              336830.25\n",
       "DAFAX V                 104054.02\n",
       "DAFAX VM 500              8678.40\n",
       "DROXIT 10               854239.30\n",
       "ELPROL AM 25              8979.06\n",
       "ELPROL AM 50             31366.08\n",
       "ELPROL XL 100             9194.38\n",
       "ELPROL XL 25            158231.14\n",
       "ELPROL XL 50            195430.71\n",
       "ELVIX GEL 50GM         1175908.46\n",
       "EXIPAM 10                34867.28\n",
       "EXIPAM 20                 -437.16\n",
       "EXIPAM 5                 21941.46\n",
       "EXIPAM PLUS              32980.20\n",
       "FENZIT 600              134608.56\n",
       "FERTIBRIT F              46158.60\n",
       "FERTIBRIT M              75849.15\n",
       "FOFA                    101210.29\n",
       "FOFA PLUS                16475.40\n",
       "FOLBRIT MB               69853.91\n",
       "GLIMIBRIT 1              88511.01\n",
       "GLIMIBRIT 2             188048.80\n",
       "GLIMIBRIT 3              95516.67\n",
       "GLIMIBRIT 4             135639.13\n",
       "GLIMIBRIT M 0.5         143116.51\n",
       "GLIMIBRIT M1            645149.80\n",
       "GLIMIBRIT M1 FORTE       14336.44\n",
       "GLIMIBRIT M2            696057.63\n",
       "GLIMIBRIT M2 FORTE       92172.88\n",
       "GLIMIBRIT MV1           145596.98\n",
       "GLIMIBRIT MV2           506349.58\n",
       "GLIZATO 30 OD           178175.16\n",
       "GLIZATO 40               47551.68\n",
       "GLIZATO 60 OD           322961.94\n",
       "GLIZATO 80              175273.63\n",
       "GLIZATO M40             250532.10\n",
       "GLIZATO M80             654835.28\n",
       "IEN                      78677.92\n",
       "IEN FCM                 620477.31\n",
       "IEN M                    58744.08\n",
       "IEN TOTAL               165609.75\n",
       "LARGIX                  256753.75\n",
       "LINATO 5                120561.56\n",
       "LINATO M 2.5/500         26550.00\n",
       "LINATO-D                 60940.60\n",
       "MAXFLORA                289012.44\n",
       "MY20                     80515.99\n",
       "MYCISS                   51310.54\n",
       "MYCISS PLUS             332866.48\n",
       "MYCLOP 75                63571.07\n",
       "MYCLOP A 75              53631.24\n",
       "MYGUT                   550932.38\n",
       "MYMAG                    94485.38\n",
       "MYWASH 100 ML            54405.77\n",
       "MYWASH 150 ML           -11276.10\n",
       "NEBILOC 10              122629.94\n",
       "NEBILOC 2.5             151509.65\n",
       "NEBILOC 5               326252.12\n",
       "NEBILOC 5 AM            138023.69\n",
       "NERO PG 50              154339.92\n",
       "NERO PG 75               74382.50\n",
       "NEURONZ D              2308078.58\n",
       "NEURONZ LC              172461.68\n",
       "NEURONZ MAX             162751.90\n",
       "NEURONZ PLUS           1182808.90\n",
       "OLMETOP 10               33601.08\n",
       "OLMETOP 20              237540.60\n",
       "OLMETOP 20 AM           170093.96\n",
       "OLMETOP 20 CT           107797.26\n",
       "OLMETOP 40              168388.57\n",
       "OLMETOP 40 CT           275029.08\n",
       "ONLY E                   91442.54\n",
       "ONLY Q PLUS             336541.05\n",
       "PANBRIT                  90775.66\n",
       "PANBRIT DSR             183267.63\n",
       "PREGABRIT              1135551.52\n",
       "PREGABRIT D 50/20       164928.40\n",
       "PREGABRIT NT            834054.17\n",
       "PREGABRIT PLUS          674198.81\n",
       "RABRITON 20             181182.90\n",
       "RABRITON DSR            377602.46\n",
       "RABRITON PLUS           238870.50\n",
       "ROZULA 10               465923.43\n",
       "ROZULA 10 F             352936.12\n",
       "ROZULA 20               187973.99\n",
       "ROZULA 40                33834.16\n",
       "ROZULA 5                118455.37\n",
       "ROZULA ASP 10           141930.58\n",
       "ROZULA ASP 20           116843.95\n",
       "ROZULA CV 10            530803.95\n",
       "ROZULA CV 20            282003.56\n",
       "ROZULA GOLD 10          380651.69\n",
       "ROZULA GOLD 20          542594.93\n",
       "RUTONZ                  265492.55\n",
       "RUTONZ D                 39112.51\n",
       "SITADOC 100             150990.90\n",
       "SITADOC 25               33830.24\n",
       "SITADOC 50              167991.38\n",
       "SITADOC M 50 / 1000      68196.69\n",
       "SITADOC M 50 / 500      752576.18\n",
       "SITADOC MP 500           26507.02\n",
       "TELBRIT 20              121041.39\n",
       "TELBRIT 40              547731.92\n",
       "TELBRIT 80               12075.17\n",
       "TELBRIT AH              109550.69\n",
       "TELBRIT AM              395524.00\n",
       "TELBRIT CT              310525.27\n",
       "TELBRIT H               357246.14\n",
       "TELBRIT MT              219747.32\n",
       "TELBRIT MT 25           146955.96\n",
       "TELBRIT NB 40/2.5       134535.81\n",
       "TELBRIT NB 40/5         215522.20\n",
       "TENLIBRIT M              34851.75\n",
       "TENLIBRIT M FORTE         -360.00\n",
       "TENLITAB 20             246754.13\n",
       "TENLITAB M              364243.80\n",
       "TENLITAB M FORTE         -5022.00\n",
       "TICABRIT 90             358425.01\n",
       "TORBRIT 10               58908.12\n",
       "TORBRIT 20               16835.84\n",
       "TORBRIT 5                21987.23\n",
       "TORBRIT PLUS 10          66675.61\n",
       "TORBRIT PLUS 20          30418.72\n",
       "TORBRIT PLUS 5           20671.73\n",
       "TRIGLIMIBRIT 1          286746.11\n",
       "TRIGLIMIBRIT 1.3        323586.26\n",
       "TRIGLIMIBRIT 2          799793.17\n",
       "TRIGLIMIBRIT 2.3        616231.47\n",
       "VEINEX                  278814.15\n",
       "VILZATO 100 OD           20047.23\n",
       "VILZATO 50              249651.99\n",
       "VILZATO M 1000            7456.80\n",
       "VILZATO M 500           429683.93\n",
       "Name: Primary Sales, dtype: float64"
      ]
     },
     "execution_count": 30,
     "metadata": {},
     "output_type": "execute_result"
    }
   ],
   "source": [
    "# Group by product and sum the sales\n",
    "september_sales = september_data.groupby('Item Name')['Primary Sales'].sum()\n",
    "\n",
    "# Display the aggregated sales\n",
    "september_sales"
   ]
  },
  {
   "cell_type": "markdown",
   "id": "7a2680d9-aca1-4324-bf34-b214f49203ad",
   "metadata": {},
   "source": [
    "Identify the Highest-Selling Product"
   ]
  },
  {
   "cell_type": "code",
   "execution_count": 32,
   "id": "a16b58e4-18e6-4d02-9433-47b9e5175aea",
   "metadata": {},
   "outputs": [
    {
     "name": "stdout",
     "output_type": "stream",
     "text": [
      "The highest-selling product in September is 'NEURONZ D' with sales of 2308078.58.\n"
     ]
    }
   ],
   "source": [
    "# Find the product with the highest sales\n",
    "highest_selling_product = september_sales.idxmax()\n",
    "highest_sales = september_sales.max()\n",
    "\n",
    "print(f\"The highest-selling product in September is '{highest_selling_product}' with sales of {highest_sales}.\")"
   ]
  },
  {
   "cell_type": "code",
   "execution_count": null,
   "id": "10f9fd0f-21ae-470e-854b-e678497907fe",
   "metadata": {},
   "outputs": [],
   "source": []
  },
  {
   "cell_type": "markdown",
   "id": "791f5be8-ff77-48ae-bf95-cdff538a429b",
   "metadata": {},
   "source": [
    "**2. Which product had the highest sales for the \"CND Chennai\" sales team in May?**"
   ]
  },
  {
   "cell_type": "markdown",
   "id": "2a830f71-a942-4837-a908-657b00e1a76a",
   "metadata": {},
   "source": [
    "Filter Data for May and \"CND Chennai\""
   ]
  },
  {
   "cell_type": "code",
   "execution_count": 35,
   "id": "f1211384-bdc4-4663-b305-ba72ee73e268",
   "metadata": {},
   "outputs": [
    {
     "data": {
      "text/html": [
       "<div>\n",
       "<style scoped>\n",
       "    .dataframe tbody tr th:only-of-type {\n",
       "        vertical-align: middle;\n",
       "    }\n",
       "\n",
       "    .dataframe tbody tr th {\n",
       "        vertical-align: top;\n",
       "    }\n",
       "\n",
       "    .dataframe thead th {\n",
       "        text-align: right;\n",
       "    }\n",
       "</style>\n",
       "<table border=\"1\" class=\"dataframe\">\n",
       "  <thead>\n",
       "    <tr style=\"text-align: right;\">\n",
       "      <th></th>\n",
       "      <th>Sr</th>\n",
       "      <th>ID</th>\n",
       "      <th>Customer</th>\n",
       "      <th>Primary Sales</th>\n",
       "      <th>Cancelled</th>\n",
       "      <th>Is added to primary log</th>\n",
       "      <th>Against Expiry</th>\n",
       "      <th>Breakage</th>\n",
       "      <th>Claim Offer</th>\n",
       "      <th>Quantity</th>\n",
       "      <th>Net Rate</th>\n",
       "      <th>Free Item</th>\n",
       "      <th>HQ</th>\n",
       "      <th>Sales Team</th>\n",
       "      <th>Sales Return</th>\n",
       "      <th>Sales Invoice Name</th>\n",
       "      <th>Rate Difference</th>\n",
       "      <th>Item Name</th>\n",
       "      <th>Free Item Value</th>\n",
       "      <th>Date</th>\n",
       "    </tr>\n",
       "  </thead>\n",
       "  <tbody>\n",
       "    <tr>\n",
       "      <th>74731</th>\n",
       "      <td>102409</td>\n",
       "      <td>SL-05-24-133486</td>\n",
       "      <td>AADITYA PHARMEX</td>\n",
       "      <td>0.0</td>\n",
       "      <td>0</td>\n",
       "      <td>1</td>\n",
       "      <td>0.0</td>\n",
       "      <td>0.0</td>\n",
       "      <td>0.0</td>\n",
       "      <td>5</td>\n",
       "      <td>0.00</td>\n",
       "      <td>1</td>\n",
       "      <td>HQ-Chennai</td>\n",
       "      <td>CND Chennai</td>\n",
       "      <td>0.0</td>\n",
       "      <td>IN-CH24-00692</td>\n",
       "      <td>0.0</td>\n",
       "      <td>NEBILOC 5</td>\n",
       "      <td>-594.642857</td>\n",
       "      <td>2024-05-31</td>\n",
       "    </tr>\n",
       "    <tr>\n",
       "      <th>74732</th>\n",
       "      <td>102410</td>\n",
       "      <td>SL-05-24-133485</td>\n",
       "      <td>AADITYA PHARMEX</td>\n",
       "      <td>0.0</td>\n",
       "      <td>0</td>\n",
       "      <td>1</td>\n",
       "      <td>0.0</td>\n",
       "      <td>0.0</td>\n",
       "      <td>0.0</td>\n",
       "      <td>140</td>\n",
       "      <td>0.00</td>\n",
       "      <td>1</td>\n",
       "      <td>HQ-Chennai</td>\n",
       "      <td>CND Chennai</td>\n",
       "      <td>0.0</td>\n",
       "      <td>IN-CH24-00692</td>\n",
       "      <td>0.0</td>\n",
       "      <td>NEURONZ D</td>\n",
       "      <td>-16200.000000</td>\n",
       "      <td>2024-05-31</td>\n",
       "    </tr>\n",
       "    <tr>\n",
       "      <th>74733</th>\n",
       "      <td>102411</td>\n",
       "      <td>SL-05-24-133484</td>\n",
       "      <td>AADITYA PHARMEX</td>\n",
       "      <td>5946.5</td>\n",
       "      <td>0</td>\n",
       "      <td>1</td>\n",
       "      <td>0.0</td>\n",
       "      <td>0.0</td>\n",
       "      <td>0.0</td>\n",
       "      <td>50</td>\n",
       "      <td>118.93</td>\n",
       "      <td>0</td>\n",
       "      <td>HQ-Chennai</td>\n",
       "      <td>CND Chennai</td>\n",
       "      <td>0.0</td>\n",
       "      <td>IN-CH24-00692</td>\n",
       "      <td>0.0</td>\n",
       "      <td>NEBILOC 5</td>\n",
       "      <td>0.000000</td>\n",
       "      <td>2024-05-31</td>\n",
       "    </tr>\n",
       "    <tr>\n",
       "      <th>74734</th>\n",
       "      <td>102412</td>\n",
       "      <td>SL-05-24-133483</td>\n",
       "      <td>AADITYA PHARMEX</td>\n",
       "      <td>0.0</td>\n",
       "      <td>0</td>\n",
       "      <td>1</td>\n",
       "      <td>0.0</td>\n",
       "      <td>0.0</td>\n",
       "      <td>0.0</td>\n",
       "      <td>5</td>\n",
       "      <td>0.00</td>\n",
       "      <td>1</td>\n",
       "      <td>HQ-Chennai</td>\n",
       "      <td>CND Chennai</td>\n",
       "      <td>0.0</td>\n",
       "      <td>IN-CH24-00692</td>\n",
       "      <td>0.0</td>\n",
       "      <td>MYGUT</td>\n",
       "      <td>-457.627119</td>\n",
       "      <td>2024-05-31</td>\n",
       "    </tr>\n",
       "    <tr>\n",
       "      <th>74735</th>\n",
       "      <td>102413</td>\n",
       "      <td>SL-05-24-133482</td>\n",
       "      <td>AADITYA PHARMEX</td>\n",
       "      <td>0.0</td>\n",
       "      <td>0</td>\n",
       "      <td>1</td>\n",
       "      <td>0.0</td>\n",
       "      <td>0.0</td>\n",
       "      <td>0.0</td>\n",
       "      <td>60</td>\n",
       "      <td>0.00</td>\n",
       "      <td>1</td>\n",
       "      <td>HQ-Chennai</td>\n",
       "      <td>CND Chennai</td>\n",
       "      <td>0.0</td>\n",
       "      <td>IN-CH24-00692</td>\n",
       "      <td>0.0</td>\n",
       "      <td>NEURONZ PLUS</td>\n",
       "      <td>-8485.714286</td>\n",
       "      <td>2024-05-31</td>\n",
       "    </tr>\n",
       "  </tbody>\n",
       "</table>\n",
       "</div>"
      ],
      "text/plain": [
       "           Sr               ID         Customer  Primary Sales  Cancelled  \\\n",
       "74731  102409  SL-05-24-133486  AADITYA PHARMEX            0.0          0   \n",
       "74732  102410  SL-05-24-133485  AADITYA PHARMEX            0.0          0   \n",
       "74733  102411  SL-05-24-133484  AADITYA PHARMEX         5946.5          0   \n",
       "74734  102412  SL-05-24-133483  AADITYA PHARMEX            0.0          0   \n",
       "74735  102413  SL-05-24-133482  AADITYA PHARMEX            0.0          0   \n",
       "\n",
       "       Is added to primary log  Against Expiry  Breakage  Claim Offer  \\\n",
       "74731                        1             0.0       0.0          0.0   \n",
       "74732                        1             0.0       0.0          0.0   \n",
       "74733                        1             0.0       0.0          0.0   \n",
       "74734                        1             0.0       0.0          0.0   \n",
       "74735                        1             0.0       0.0          0.0   \n",
       "\n",
       "       Quantity  Net Rate  Free Item          HQ   Sales Team  Sales Return  \\\n",
       "74731         5      0.00          1  HQ-Chennai  CND Chennai           0.0   \n",
       "74732       140      0.00          1  HQ-Chennai  CND Chennai           0.0   \n",
       "74733        50    118.93          0  HQ-Chennai  CND Chennai           0.0   \n",
       "74734         5      0.00          1  HQ-Chennai  CND Chennai           0.0   \n",
       "74735        60      0.00          1  HQ-Chennai  CND Chennai           0.0   \n",
       "\n",
       "      Sales Invoice Name  Rate Difference     Item Name  Free Item Value  \\\n",
       "74731      IN-CH24-00692              0.0     NEBILOC 5      -594.642857   \n",
       "74732      IN-CH24-00692              0.0     NEURONZ D    -16200.000000   \n",
       "74733      IN-CH24-00692              0.0     NEBILOC 5         0.000000   \n",
       "74734      IN-CH24-00692              0.0         MYGUT      -457.627119   \n",
       "74735      IN-CH24-00692              0.0  NEURONZ PLUS     -8485.714286   \n",
       "\n",
       "            Date  \n",
       "74731 2024-05-31  \n",
       "74732 2024-05-31  \n",
       "74733 2024-05-31  \n",
       "74734 2024-05-31  \n",
       "74735 2024-05-31  "
      ]
     },
     "execution_count": 35,
     "metadata": {},
     "output_type": "execute_result"
    }
   ],
   "source": [
    "# Filter for the month of May\n",
    "may_data = df[df['Date'].dt.month == 5]\n",
    "\n",
    "# Further filter for \"CND Chennai\" sales team\n",
    "may_data_cnd = may_data[may_data['Sales Team'] == 'CND Chennai']\n",
    "\n",
    "# Display filtered data to verify\n",
    "may_data_cnd.head()"
   ]
  },
  {
   "cell_type": "markdown",
   "id": "79ac684c-760f-47db-a796-1b930a84a418",
   "metadata": {},
   "source": [
    "Calculate Total Sales for Each Product"
   ]
  },
  {
   "cell_type": "code",
   "execution_count": 37,
   "id": "5cd79f5b-ca62-47d0-bd7d-951c6cac26c8",
   "metadata": {},
   "outputs": [
    {
     "data": {
      "text/plain": [
       "Item Name\n",
       "BRITVIT                 201766.82\n",
       "BRITVOG M 0.2             4773.45\n",
       "BRITVOG M 0.3            -2086.62\n",
       "CALBRIT                  81119.30\n",
       "CILNITAB 10             102845.73\n",
       "CILNITAB 20              57732.29\n",
       "CILNITAB 5               44348.66\n",
       "CITIBRIT FORTE          103704.78\n",
       "CITIBRIT PLUS            -9380.00\n",
       "DABITON 110               9843.53\n",
       "DAFAX V                  98499.84\n",
       "DAFAX VM 500             34713.60\n",
       "GLIMIBRIT M 0.5          34048.56\n",
       "GLIMIBRIT M1 FORTE       15576.59\n",
       "GLIMIBRIT M2 FORTE       29121.42\n",
       "GLIZATO 30 OD            49978.60\n",
       "GLIZATO 40               21937.00\n",
       "GLIZATO 60 OD           172168.22\n",
       "GLIZATO 80               85895.50\n",
       "GLIZATO M40             143015.00\n",
       "GLIZATO M80             404144.42\n",
       "MYGUT                   105587.12\n",
       "NEBILOC 10               41713.77\n",
       "NEBILOC 2.5              30744.07\n",
       "NEBILOC 5                62889.83\n",
       "NEBILOC 5 AM             17396.80\n",
       "NEURONZ D              1161546.19\n",
       "NEURONZ PLUS            371374.20\n",
       "ONLY E                   28697.94\n",
       "ROZULA 10               158257.08\n",
       "ROZULA 20                44125.94\n",
       "ROZULA 5                 57173.64\n",
       "ROZULA GOLD 10           59746.03\n",
       "ROZULA GOLD 20           28248.06\n",
       "SITADOC 100              30448.30\n",
       "SITADOC 25               15536.17\n",
       "SITADOC 50               61924.98\n",
       "SITADOC M 50 / 1000      15390.00\n",
       "SITADOC M 50 / 500      125109.28\n",
       "SITADOC MP 500           32400.90\n",
       "TELBRIT 20               32660.87\n",
       "TELBRIT 40              147413.93\n",
       "TELBRIT 80                1596.64\n",
       "TELBRIT AM               93719.88\n",
       "TELBRIT CT               58842.81\n",
       "TELBRIT H                91039.76\n",
       "TENLIBRIT M              12535.50\n",
       "TENLIBRIT M FORTE         -164.00\n",
       "TENLITAB M               10446.25\n",
       "TRIGLIMIBRIT 1          119471.29\n",
       "TRIGLIMIBRIT 1.3         63847.08\n",
       "TRIGLIMIBRIT 2          288395.61\n",
       "TRIGLIMIBRIT 2.3         74790.00\n",
       "VILZATO 100 OD           23271.76\n",
       "VILZATO 50               95159.62\n",
       "VILZATO M 1000            1770.99\n",
       "VILZATO M 500            99431.21\n",
       "Name: Primary Sales, dtype: float64"
      ]
     },
     "execution_count": 37,
     "metadata": {},
     "output_type": "execute_result"
    }
   ],
   "source": [
    "# Group by product and sum the sales\n",
    "may_sales_cnd = may_data_cnd.groupby('Item Name')['Primary Sales'].sum()\n",
    "\n",
    "# Display the aggregated sales\n",
    "may_sales_cnd"
   ]
  },
  {
   "cell_type": "markdown",
   "id": "a578ad68-0467-4467-a7bf-a04b1a5f11fe",
   "metadata": {},
   "source": [
    "Identify the Product with the Highest Sales"
   ]
  },
  {
   "cell_type": "code",
   "execution_count": 39,
   "id": "bf8d63f4-f63a-407b-9884-e52cac51591e",
   "metadata": {},
   "outputs": [
    {
     "name": "stdout",
     "output_type": "stream",
     "text": [
      "The product with the highest sales for 'CND Chennai' in May is 'NEURONZ D' with sales of 1161546.19.\n"
     ]
    }
   ],
   "source": [
    "# Find the product with the highest sales\n",
    "highest_selling_product_may_cnd = may_sales_cnd.idxmax()\n",
    "highest_sales_may_cnd = may_sales_cnd.max()\n",
    "\n",
    "print(f\"The product with the highest sales for 'CND Chennai' in May is '{highest_selling_product_may_cnd}' with sales of {highest_sales_may_cnd}.\")"
   ]
  },
  {
   "cell_type": "code",
   "execution_count": null,
   "id": "223c5725-9e47-4d95-bde3-4f12decf923e",
   "metadata": {},
   "outputs": [],
   "source": []
  },
  {
   "cell_type": "markdown",
   "id": "52497e4c-9366-45fb-b2b2-9eb01fa9927c",
   "metadata": {},
   "source": [
    "**3. Which customer had the maximum stock returns in October for the Bangalore HQ?**"
   ]
  },
  {
   "cell_type": "markdown",
   "id": "f41d33d0-513b-4ff2-8998-1a0aaee4c4cd",
   "metadata": {},
   "source": [
    "Filter Data for October and Bangalore HQ"
   ]
  },
  {
   "cell_type": "code",
   "execution_count": 42,
   "id": "649486ca-b22e-4241-a974-1bb53d2bfbd4",
   "metadata": {},
   "outputs": [
    {
     "data": {
      "text/html": [
       "<div>\n",
       "<style scoped>\n",
       "    .dataframe tbody tr th:only-of-type {\n",
       "        vertical-align: middle;\n",
       "    }\n",
       "\n",
       "    .dataframe tbody tr th {\n",
       "        vertical-align: top;\n",
       "    }\n",
       "\n",
       "    .dataframe thead th {\n",
       "        text-align: right;\n",
       "    }\n",
       "</style>\n",
       "<table border=\"1\" class=\"dataframe\">\n",
       "  <thead>\n",
       "    <tr style=\"text-align: right;\">\n",
       "      <th></th>\n",
       "      <th>Sr</th>\n",
       "      <th>ID</th>\n",
       "      <th>Customer</th>\n",
       "      <th>Primary Sales</th>\n",
       "      <th>Cancelled</th>\n",
       "      <th>Is added to primary log</th>\n",
       "      <th>Against Expiry</th>\n",
       "      <th>Breakage</th>\n",
       "      <th>Claim Offer</th>\n",
       "      <th>Quantity</th>\n",
       "      <th>Net Rate</th>\n",
       "      <th>Free Item</th>\n",
       "      <th>HQ</th>\n",
       "      <th>Sales Team</th>\n",
       "      <th>Sales Return</th>\n",
       "      <th>Sales Invoice Name</th>\n",
       "      <th>Rate Difference</th>\n",
       "      <th>Item Name</th>\n",
       "      <th>Free Item Value</th>\n",
       "      <th>Date</th>\n",
       "    </tr>\n",
       "  </thead>\n",
       "  <tbody>\n",
       "    <tr>\n",
       "      <th>60429</th>\n",
       "      <td>88107</td>\n",
       "      <td>SL-06-24-154736</td>\n",
       "      <td>MEDILINE BIOTEX</td>\n",
       "      <td>539.98</td>\n",
       "      <td>0</td>\n",
       "      <td>1</td>\n",
       "      <td>0.0</td>\n",
       "      <td>0.0</td>\n",
       "      <td>0.0</td>\n",
       "      <td>10</td>\n",
       "      <td>54.00</td>\n",
       "      <td>0</td>\n",
       "      <td>HQ-Bangalore</td>\n",
       "      <td>Elbrit Karnataka</td>\n",
       "      <td>0.0</td>\n",
       "      <td>IN-KA24-00717</td>\n",
       "      <td>0.0</td>\n",
       "      <td>CILNITAB T 40</td>\n",
       "      <td>0.0</td>\n",
       "      <td>2024-06-29</td>\n",
       "    </tr>\n",
       "    <tr>\n",
       "      <th>60430</th>\n",
       "      <td>88108</td>\n",
       "      <td>SL-06-24-154735</td>\n",
       "      <td>MEDILINE BIOTEX</td>\n",
       "      <td>1035.02</td>\n",
       "      <td>0</td>\n",
       "      <td>1</td>\n",
       "      <td>0.0</td>\n",
       "      <td>0.0</td>\n",
       "      <td>0.0</td>\n",
       "      <td>10</td>\n",
       "      <td>103.50</td>\n",
       "      <td>0</td>\n",
       "      <td>HQ-Bangalore</td>\n",
       "      <td>Elbrit Karnataka</td>\n",
       "      <td>0.0</td>\n",
       "      <td>IN-KA24-00717</td>\n",
       "      <td>0.0</td>\n",
       "      <td>ROZULA CV 20</td>\n",
       "      <td>0.0</td>\n",
       "      <td>2024-06-29</td>\n",
       "    </tr>\n",
       "    <tr>\n",
       "      <th>60431</th>\n",
       "      <td>88109</td>\n",
       "      <td>SL-06-24-154593</td>\n",
       "      <td>MEDILINE BIOTEX</td>\n",
       "      <td>11282.40</td>\n",
       "      <td>0</td>\n",
       "      <td>1</td>\n",
       "      <td>0.0</td>\n",
       "      <td>0.0</td>\n",
       "      <td>0.0</td>\n",
       "      <td>90</td>\n",
       "      <td>125.36</td>\n",
       "      <td>0</td>\n",
       "      <td>HQ-Bangalore</td>\n",
       "      <td>Elbrit Karnataka</td>\n",
       "      <td>0.0</td>\n",
       "      <td>IN-KA24-00715</td>\n",
       "      <td>0.0</td>\n",
       "      <td>SITADOC M 50 / 500</td>\n",
       "      <td>0.0</td>\n",
       "      <td>2024-06-29</td>\n",
       "    </tr>\n",
       "    <tr>\n",
       "      <th>60432</th>\n",
       "      <td>88110</td>\n",
       "      <td>SL-06-24-154592</td>\n",
       "      <td>MEDILINE BIOTEX</td>\n",
       "      <td>3297.90</td>\n",
       "      <td>0</td>\n",
       "      <td>1</td>\n",
       "      <td>0.0</td>\n",
       "      <td>0.0</td>\n",
       "      <td>0.0</td>\n",
       "      <td>30</td>\n",
       "      <td>109.93</td>\n",
       "      <td>0</td>\n",
       "      <td>HQ-Bangalore</td>\n",
       "      <td>Elbrit Karnataka</td>\n",
       "      <td>0.0</td>\n",
       "      <td>IN-KA24-00715</td>\n",
       "      <td>0.0</td>\n",
       "      <td>TRIGLIMIBRIT 1</td>\n",
       "      <td>0.0</td>\n",
       "      <td>2024-06-29</td>\n",
       "    </tr>\n",
       "    <tr>\n",
       "      <th>60433</th>\n",
       "      <td>88111</td>\n",
       "      <td>SL-06-24-154591</td>\n",
       "      <td>MEDILINE BIOTEX</td>\n",
       "      <td>3606.30</td>\n",
       "      <td>0</td>\n",
       "      <td>1</td>\n",
       "      <td>0.0</td>\n",
       "      <td>0.0</td>\n",
       "      <td>0.0</td>\n",
       "      <td>30</td>\n",
       "      <td>120.21</td>\n",
       "      <td>0</td>\n",
       "      <td>HQ-Bangalore</td>\n",
       "      <td>Elbrit Karnataka</td>\n",
       "      <td>0.0</td>\n",
       "      <td>IN-KA24-00715</td>\n",
       "      <td>0.0</td>\n",
       "      <td>OLMETOP 20 AM</td>\n",
       "      <td>0.0</td>\n",
       "      <td>2024-06-29</td>\n",
       "    </tr>\n",
       "  </tbody>\n",
       "</table>\n",
       "</div>"
      ],
      "text/plain": [
       "          Sr               ID         Customer  Primary Sales  Cancelled  \\\n",
       "60429  88107  SL-06-24-154736  MEDILINE BIOTEX         539.98          0   \n",
       "60430  88108  SL-06-24-154735  MEDILINE BIOTEX        1035.02          0   \n",
       "60431  88109  SL-06-24-154593  MEDILINE BIOTEX       11282.40          0   \n",
       "60432  88110  SL-06-24-154592  MEDILINE BIOTEX        3297.90          0   \n",
       "60433  88111  SL-06-24-154591  MEDILINE BIOTEX        3606.30          0   \n",
       "\n",
       "       Is added to primary log  Against Expiry  Breakage  Claim Offer  \\\n",
       "60429                        1             0.0       0.0          0.0   \n",
       "60430                        1             0.0       0.0          0.0   \n",
       "60431                        1             0.0       0.0          0.0   \n",
       "60432                        1             0.0       0.0          0.0   \n",
       "60433                        1             0.0       0.0          0.0   \n",
       "\n",
       "       Quantity  Net Rate  Free Item            HQ        Sales Team  \\\n",
       "60429        10     54.00          0  HQ-Bangalore  Elbrit Karnataka   \n",
       "60430        10    103.50          0  HQ-Bangalore  Elbrit Karnataka   \n",
       "60431        90    125.36          0  HQ-Bangalore  Elbrit Karnataka   \n",
       "60432        30    109.93          0  HQ-Bangalore  Elbrit Karnataka   \n",
       "60433        30    120.21          0  HQ-Bangalore  Elbrit Karnataka   \n",
       "\n",
       "       Sales Return Sales Invoice Name  Rate Difference           Item Name  \\\n",
       "60429           0.0      IN-KA24-00717              0.0       CILNITAB T 40   \n",
       "60430           0.0      IN-KA24-00717              0.0        ROZULA CV 20   \n",
       "60431           0.0      IN-KA24-00715              0.0  SITADOC M 50 / 500   \n",
       "60432           0.0      IN-KA24-00715              0.0      TRIGLIMIBRIT 1   \n",
       "60433           0.0      IN-KA24-00715              0.0       OLMETOP 20 AM   \n",
       "\n",
       "       Free Item Value       Date  \n",
       "60429              0.0 2024-06-29  \n",
       "60430              0.0 2024-06-29  \n",
       "60431              0.0 2024-06-29  \n",
       "60432              0.0 2024-06-29  \n",
       "60433              0.0 2024-06-29  "
      ]
     },
     "execution_count": 42,
     "metadata": {},
     "output_type": "execute_result"
    }
   ],
   "source": [
    "# Filter for the month of October\n",
    "october_data = df[df['Date'].dt.month == 6]\n",
    "\n",
    "# Further filter for Bangalore HQ\n",
    "october_bangalore_data = october_data[october_data['HQ'] == 'HQ-Bangalore']\n",
    "\n",
    "# Display the filtered data to verify\n",
    "october_bangalore_data.head()"
   ]
  },
  {
   "cell_type": "markdown",
   "id": "f3839996-c752-4603-bc3e-6cb32084595d",
   "metadata": {},
   "source": [
    "Calculate Total Returns for Each Customer"
   ]
  },
  {
   "cell_type": "code",
   "execution_count": 44,
   "id": "f58178c6-e86d-4d3e-bd89-d3cca1681b92",
   "metadata": {},
   "outputs": [
    {
     "data": {
      "text/plain": [
       "Customer\n",
       "DECCAN MEDISALES PVT LTD                   0.0\n",
       "FOCUS MEDISALES PVT LTD BANASWADI          0.0\n",
       "FOCUS MEDISALES PVT LTD HOSUR              0.0\n",
       "FOCUS MEDISALES PVT LTD YESHWANTHPURA      0.0\n",
       "HERITAGE MARKETEERS                        0.0\n",
       "MAHAVEER MEDI SALES PVT LTD                0.0\n",
       "MAHENDRA DRUG AGENCIES                     0.0\n",
       "MEDILINE BIOTEX                            0.0\n",
       "RSM PHARMA PVT LTD                         0.0\n",
       "SAPTHAGIRI PHARMA DISTRIBUTORS             0.0\n",
       "SHIVA DRUG HOUSE                           0.0\n",
       "SRI PARSHVA PHARMA DISTRIBUTORS PVT LTD    0.0\n",
       "SRINIVASA MEDISALES PVT LTD                0.0\n",
       "VARDHAMAN MEDISALES PVT LTD YESWANTHPUR    0.0\n",
       "VARDHMAN MEDISALES PVT LTD BANASWADI       0.0\n",
       "VARDHMAN MEDISALES PVT LTD HO              0.0\n",
       "Name: Sales Return, dtype: float64"
      ]
     },
     "execution_count": 44,
     "metadata": {},
     "output_type": "execute_result"
    }
   ],
   "source": [
    "# Group by customer and sum the returns\n",
    "october_returns_bangalore = october_bangalore_data.groupby('Customer')['Sales Return'].sum()\n",
    "\n",
    "# Display the aggregated returns\n",
    "october_returns_bangalore"
   ]
  },
  {
   "cell_type": "code",
   "execution_count": 45,
   "id": "cb6a1e58-7200-4d71-8ed4-f008fc56129b",
   "metadata": {},
   "outputs": [
    {
     "data": {
      "text/plain": [
       "Customer\n",
       "DECCAN MEDISALES PVT LTD                   0.0\n",
       "FOCUS MEDISALES PVT LTD BANASWADI          0.0\n",
       "FOCUS MEDISALES PVT LTD HOSUR              0.0\n",
       "FOCUS MEDISALES PVT LTD YESHWANTHPURA      0.0\n",
       "HERITAGE MARKETEERS                        0.0\n",
       "MAHAVEER MEDI SALES PVT LTD                0.0\n",
       "MAHENDRA DRUG AGENCIES                     0.0\n",
       "MEDILINE BIOTEX                            0.0\n",
       "RSM PHARMA PVT LTD                         0.0\n",
       "SAPTHAGIRI PHARMA DISTRIBUTORS             0.0\n",
       "SHIVA DRUG HOUSE                           0.0\n",
       "SRI PARSHVA PHARMA DISTRIBUTORS PVT LTD    0.0\n",
       "SRINIVASA MEDISALES PVT LTD                0.0\n",
       "VARDHAMAN MEDISALES PVT LTD YESWANTHPUR    0.0\n",
       "VARDHMAN MEDISALES PVT LTD BANASWADI       0.0\n",
       "VARDHMAN MEDISALES PVT LTD HO              0.0\n",
       "Name: Sales Return, dtype: float64"
      ]
     },
     "execution_count": 45,
     "metadata": {},
     "output_type": "execute_result"
    }
   ],
   "source": [
    "october_returns_bangalore"
   ]
  },
  {
   "cell_type": "markdown",
   "id": "630c1139-0edd-4232-bd16-2cd438373e2f",
   "metadata": {},
   "source": [
    "Customer had the maximum stock returns in June for the Bangalore HQ is 0"
   ]
  },
  {
   "cell_type": "code",
   "execution_count": null,
   "id": "59154e91-5b33-4f44-b949-a3f728e7fa01",
   "metadata": {},
   "outputs": [],
   "source": []
  },
  {
   "cell_type": "markdown",
   "id": "63e7b4ce-6dda-4de3-ad1a-90cb8d27bab2",
   "metadata": {},
   "source": [
    "**4. Which sales team had the maximum percentage of primary sales returned due to expiry?**"
   ]
  },
  {
   "cell_type": "markdown",
   "id": "8576ef1e-8016-4a73-be36-d81003654c09",
   "metadata": {},
   "source": [
    "Calculate Percentage of Sales Returned Due to Expiry"
   ]
  },
  {
   "cell_type": "code",
   "execution_count": 49,
   "id": "395616be-2bb6-4423-a891-48ea046fb233",
   "metadata": {},
   "outputs": [
    {
     "name": "stdout",
     "output_type": "stream",
     "text": [
      "  Sales Team  Primary Sales  Against Expiry  Expiry_Return_Percentage\n",
      "0  Elbrit AP         135.08          135.08                     100.0\n",
      "1  Elbrit AP         413.80          413.80                     100.0\n",
      "2  Elbrit AP         210.38          210.38                     100.0\n",
      "3  Elbrit AP         105.19          105.19                     100.0\n",
      "4  Elbrit AP         978.30          978.30                     100.0\n"
     ]
    }
   ],
   "source": [
    "# Calculate the percentage of primary sales returned due to expiry for each row\n",
    "df['Expiry_Return_Percentage'] = (df['Against Expiry'] / df['Primary Sales']) * 100\n",
    "\n",
    "# Handle cases where Primary Sales is zero to avoid division errors\n",
    "df['Expiry_Return_Percentage'].fillna(0, inplace=True)\n",
    "df['Expiry_Return_Percentage'] = df['Expiry_Return_Percentage'].replace([np.inf, -np.inf], 0)\n",
    "\n",
    "# Display the updated DataFrame with the new column\n",
    "print(df[['Sales Team', 'Primary Sales', 'Against Expiry', 'Expiry_Return_Percentage']].head())"
   ]
  },
  {
   "cell_type": "markdown",
   "id": "968fd790-a9a9-4f24-9d8d-d445332717d7",
   "metadata": {},
   "source": [
    "Group by Sales Team and Calculate the Average Percentage"
   ]
  },
  {
   "cell_type": "code",
   "execution_count": 51,
   "id": "faba4430-6298-409a-a4f5-ba9b305249ac",
   "metadata": {},
   "outputs": [
    {
     "data": {
      "text/plain": [
       "Sales Team\n",
       "Aura & Proxima Chennai        7.121484\n",
       "Aura & Proxima Coimbatore    11.779880\n",
       "Aura & Proxima Karnataka      5.988410\n",
       "Aura & Proxima Kerala        14.156627\n",
       "CND Chennai                  13.412698\n",
       "CND Coimbatore               16.609769\n",
       "Elbrit AP                     5.345729\n",
       "Elbrit Chennai               12.939589\n",
       "Elbrit Coimbatore            13.279207\n",
       "Elbrit Delhi                  1.325411\n",
       "Elbrit Karnataka             12.988705\n",
       "Elbrit Kerala                20.311411\n",
       "Elbrit Punjab                14.568880\n",
       "Elbrit Punjab & Rajasthan     0.000000\n",
       "Elbrit Rajasthan              7.702182\n",
       "Elbrit Uttar Pradesh          4.009679\n",
       "Vasco Chennai                 5.929487\n",
       "Vasco Coimbatore              9.989181\n",
       "Name: Expiry_Return_Percentage, dtype: float64"
      ]
     },
     "execution_count": 51,
     "metadata": {},
     "output_type": "execute_result"
    }
   ],
   "source": [
    "# Group by sales team and calculate the average percentage\n",
    "team_expiry_percentage = df.groupby('Sales Team')['Expiry_Return_Percentage'].mean()\n",
    "\n",
    "# Display the calculated percentages for each team\n",
    "team_expiry_percentage"
   ]
  },
  {
   "cell_type": "markdown",
   "id": "5894019b-3912-483b-a327-e557bd18c546",
   "metadata": {},
   "source": [
    "Identify the Sales Team with the Maximum Percentage"
   ]
  },
  {
   "cell_type": "code",
   "execution_count": 53,
   "id": "ca7f357c-aa9e-4d0e-8c8b-07834d2f56fa",
   "metadata": {},
   "outputs": [
    {
     "name": "stdout",
     "output_type": "stream",
     "text": [
      "The sales team with the maximum percentage of primary sales returned due to expiry is 'Elbrit Kerala' with 20.31%.\n"
     ]
    }
   ],
   "source": [
    "# Find the sales team with the maximum percentage\n",
    "max_team = team_expiry_percentage.idxmax()\n",
    "max_percentage = team_expiry_percentage.max()\n",
    "\n",
    "print(f\"The sales team with the maximum percentage of primary sales returned due to expiry is '{max_team}' with {max_percentage:.2f}%.\")"
   ]
  },
  {
   "cell_type": "code",
   "execution_count": null,
   "id": "6a51c6ce-b1cd-4000-86fa-bddf4ba81ce9",
   "metadata": {},
   "outputs": [],
   "source": []
  },
  {
   "cell_type": "markdown",
   "id": "c24fdcb6-05cd-412b-a997-b9bdb4ab2096",
   "metadata": {},
   "source": [
    "**5. What percentage of overall primary sales was affected by breakage?**"
   ]
  },
  {
   "cell_type": "markdown",
   "id": "0fbeab5b-a6c4-4bb0-b0f0-cd0488fb34e7",
   "metadata": {},
   "source": [
    "Calculate Total Breakage and Overall Primary Sales"
   ]
  },
  {
   "cell_type": "code",
   "execution_count": 56,
   "id": "21b8b030-7816-4564-b425-cb3533cac6c7",
   "metadata": {},
   "outputs": [
    {
     "name": "stdout",
     "output_type": "stream",
     "text": [
      "Total Breakage: -1051676.55\n",
      "Total Primary Sales: 270157217.22\n"
     ]
    }
   ],
   "source": [
    "# Calculate the total breakage and overall primary sales\n",
    "total_breakage = df['Breakage'].sum()\n",
    "total_primary_sales = df['Primary Sales'].sum()\n",
    "\n",
    "# Display the totals\n",
    "print(f\"Total Breakage: {total_breakage}\")\n",
    "print(f\"Total Primary Sales: {total_primary_sales}\")"
   ]
  },
  {
   "cell_type": "markdown",
   "id": "6844dace-4fae-49d9-8813-0e326aa8f49d",
   "metadata": {},
   "source": [
    "Calculate the Percentage of Primary Sales Affected by Breakage"
   ]
  },
  {
   "cell_type": "code",
   "execution_count": 58,
   "id": "4ccdd104-1f6a-4ba4-baf7-ad8e8174b318",
   "metadata": {},
   "outputs": [
    {
     "name": "stdout",
     "output_type": "stream",
     "text": [
      "The percentage of overall primary sales affected by breakage is 0.39%.\n"
     ]
    }
   ],
   "source": [
    "# Calculate the percentage\n",
    "breakage_percentage = -(total_breakage / total_primary_sales) * 100\n",
    "\n",
    "# Display the result\n",
    "print(f\"The percentage of overall primary sales affected by breakage is {breakage_percentage:.2f}%.\")"
   ]
  },
  {
   "cell_type": "code",
   "execution_count": null,
   "id": "30f36cb3-86a7-434d-a97d-d7bff2378277",
   "metadata": {},
   "outputs": [],
   "source": []
  },
  {
   "cell_type": "markdown",
   "id": "cb364b31-db22-4015-969a-a52a654e3d03",
   "metadata": {},
   "source": [
    "**6. What were the primary sales for the Delhi HQ in the month of September?**"
   ]
  },
  {
   "cell_type": "markdown",
   "id": "4cd43cf7-a251-405d-b1e1-7de61b36c361",
   "metadata": {},
   "source": [
    "Filter Data for September and Delhi HQ"
   ]
  },
  {
   "cell_type": "code",
   "execution_count": 61,
   "id": "550c72fc-e7e9-445e-aca8-9267b6df86ad",
   "metadata": {},
   "outputs": [
    {
     "data": {
      "text/html": [
       "<div>\n",
       "<style scoped>\n",
       "    .dataframe tbody tr th:only-of-type {\n",
       "        vertical-align: middle;\n",
       "    }\n",
       "\n",
       "    .dataframe tbody tr th {\n",
       "        vertical-align: top;\n",
       "    }\n",
       "\n",
       "    .dataframe thead th {\n",
       "        text-align: right;\n",
       "    }\n",
       "</style>\n",
       "<table border=\"1\" class=\"dataframe\">\n",
       "  <thead>\n",
       "    <tr style=\"text-align: right;\">\n",
       "      <th></th>\n",
       "      <th>Sr</th>\n",
       "      <th>ID</th>\n",
       "      <th>Customer</th>\n",
       "      <th>Primary Sales</th>\n",
       "      <th>Cancelled</th>\n",
       "      <th>Is added to primary log</th>\n",
       "      <th>Against Expiry</th>\n",
       "      <th>Breakage</th>\n",
       "      <th>Claim Offer</th>\n",
       "      <th>Quantity</th>\n",
       "      <th>Net Rate</th>\n",
       "      <th>Free Item</th>\n",
       "      <th>HQ</th>\n",
       "      <th>Sales Team</th>\n",
       "      <th>Sales Return</th>\n",
       "      <th>Sales Invoice Name</th>\n",
       "      <th>Rate Difference</th>\n",
       "      <th>Item Name</th>\n",
       "      <th>Free Item Value</th>\n",
       "      <th>Date</th>\n",
       "      <th>Expiry_Return_Percentage</th>\n",
       "    </tr>\n",
       "  </thead>\n",
       "  <tbody>\n",
       "  </tbody>\n",
       "</table>\n",
       "</div>"
      ],
      "text/plain": [
       "Empty DataFrame\n",
       "Columns: [Sr, ID, Customer, Primary Sales, Cancelled, Is added to primary log, Against Expiry, Breakage, Claim Offer, Quantity, Net Rate, Free Item, HQ, Sales Team, Sales Return, Sales Invoice Name, Rate Difference, Item Name, Free Item Value, Date, Expiry_Return_Percentage]\n",
       "Index: []"
      ]
     },
     "execution_count": 61,
     "metadata": {},
     "output_type": "execute_result"
    }
   ],
   "source": [
    "# Filter for the month of September\n",
    "september_data = df[df['Date'].dt.month == 9]\n",
    "\n",
    "# Further filter for Delhi HQ\n",
    "september_delhi_data = september_data[september_data['HQ'] == 'HQ-Delhi']\n",
    "\n",
    "# Display filtered data to verify\n",
    "september_delhi_data.head()"
   ]
  },
  {
   "cell_type": "markdown",
   "id": "81b28271-8c4d-4b1c-b5c0-99310a892975",
   "metadata": {},
   "source": [
    "Calculate Total Primary Sales"
   ]
  },
  {
   "cell_type": "code",
   "execution_count": 63,
   "id": "57168a20-7fea-4686-afd7-a3828d109ed9",
   "metadata": {},
   "outputs": [
    {
     "name": "stdout",
     "output_type": "stream",
     "text": [
      "Total primary sales for Delhi HQ in September is 0\n"
     ]
    }
   ],
   "source": [
    "# Sum the primary sales for the filtered data\n",
    "total_primary_sales_delhi_september = september_delhi_data['Primary Sales'].sum().astype(int)\n",
    "\n",
    "print(f\"Total primary sales for Delhi HQ in September is {total_primary_sales_delhi_september}\")"
   ]
  },
  {
   "cell_type": "code",
   "execution_count": null,
   "id": "add45458-afea-4a7a-a44d-805aee3e1211",
   "metadata": {},
   "outputs": [],
   "source": []
  },
  {
   "cell_type": "markdown",
   "id": "5b35791a-7f8e-4450-a4e2-71f31c05d9a6",
   "metadata": {},
   "source": [
    "**7. What were the sales of \"Britorva 20\" in September for PALEPU PHARMA DIST PVT LTD under Coimbatore HQ?**"
   ]
  },
  {
   "cell_type": "markdown",
   "id": "8e7db61f-9837-408e-b59a-e93542cb0c57",
   "metadata": {},
   "source": [
    "Filter Data for September"
   ]
  },
  {
   "cell_type": "code",
   "execution_count": 66,
   "id": "e73132ba-d8bd-4d31-85f6-599f10a0d785",
   "metadata": {},
   "outputs": [],
   "source": [
    "# Filter for the month of September\n",
    "september_data = df[df['Date'].dt.month == 9]"
   ]
  },
  {
   "cell_type": "markdown",
   "id": "b7f2e95a-75f6-4ddf-b507-4eef2a0e4e01",
   "metadata": {},
   "source": [
    "Further Filter for Coimbatore HQ"
   ]
  },
  {
   "cell_type": "code",
   "execution_count": 68,
   "id": "d5a202b9-e362-4e2d-98c5-b8ab2d61bc1c",
   "metadata": {},
   "outputs": [],
   "source": [
    "# Filter for Coimbatore HQ\n",
    "coimbatore_data = september_data[september_data['HQ'] == 'HQ-Coimbatore']"
   ]
  },
  {
   "cell_type": "markdown",
   "id": "cd0f0b2b-dcb8-4fe1-a51a-fa178c4295d0",
   "metadata": {},
   "source": [
    "Narrow Down to \"PALEPU PHARMA DIST PVT LTD\""
   ]
  },
  {
   "cell_type": "code",
   "execution_count": 70,
   "id": "4a75305a-bba6-49e4-92f5-851354fc8355",
   "metadata": {},
   "outputs": [],
   "source": [
    "# Filter for the specific customer\n",
    "palepu_pharma_data = coimbatore_data[coimbatore_data['Customer'] == 'PALEPU PHARMA DIST PVT LTD']"
   ]
  },
  {
   "cell_type": "markdown",
   "id": "3efac59c-04d9-4360-b90d-ab37387a80fd",
   "metadata": {},
   "source": [
    "Check Sales of \"Britorva 20\""
   ]
  },
  {
   "cell_type": "code",
   "execution_count": 72,
   "id": "5b321bfa-62ab-4b4b-ba46-13ffcbfe266f",
   "metadata": {},
   "outputs": [
    {
     "name": "stdout",
     "output_type": "stream",
     "text": [
      "Total sales of 'Britorva 20' in September for PALEPU PHARMA DIST PVT LTD under Coimbatore HQ is 0\n"
     ]
    }
   ],
   "source": [
    "# Filter for the product \"Britorva 20\"\n",
    "britorva_data = palepu_pharma_data[palepu_pharma_data['Item Name'] == 'Britorva 20']\n",
    "\n",
    "# Sum up the primary sales\n",
    "britorva_sales = britorva_data['Primary Sales'].sum().astype(int)\n",
    "\n",
    "print(f\"Total sales of 'Britorva 20' in September for PALEPU PHARMA DIST PVT LTD under Coimbatore HQ is {britorva_sales}\")"
   ]
  },
  {
   "cell_type": "code",
   "execution_count": null,
   "id": "710ed8f1-ffaf-4a8d-8e53-9f5c5337e659",
   "metadata": {},
   "outputs": [],
   "source": []
  },
  {
   "cell_type": "markdown",
   "id": "de7e5dec-bda3-4c8b-9074-df0e8cfff5fe",
   "metadata": {},
   "source": [
    "### **Bonus**"
   ]
  },
  {
   "cell_type": "markdown",
   "id": "783540cf-0c25-4a87-bf92-e27431837a8d",
   "metadata": {},
   "source": [
    "**1. What is the forecasted value of primary sales for the October month?**"
   ]
  },
  {
   "cell_type": "code",
   "execution_count": 75,
   "id": "a40fdee4-afa2-4e8b-b13d-e676f0d7b37a",
   "metadata": {},
   "outputs": [],
   "source": [
    "from sklearn.linear_model import LinearRegression"
   ]
  },
  {
   "cell_type": "code",
   "execution_count": 76,
   "id": "5d940120-aafd-482b-b376-c1aa3f994de1",
   "metadata": {},
   "outputs": [
    {
     "name": "stdout",
     "output_type": "stream",
     "text": [
      "Monthly Sales Data:\n",
      "YearMonth\n",
      "2024-04-01    43944346.66\n",
      "2024-05-01    45896730.82\n",
      "2024-06-01    47566563.99\n",
      "2024-07-01    50067106.19\n",
      "2024-08-01    41066121.82\n",
      "2024-09-01    41616347.74\n",
      "Freq: MS, Name: Primary Sales, dtype: float64\n"
     ]
    }
   ],
   "source": [
    "# Extract year-month for aggregation\n",
    "df['YearMonth'] = df['Date'].dt.to_period('M')\n",
    "\n",
    "# Group by year-month and sum primary sales\n",
    "monthly_sales = df.groupby('YearMonth')['Primary Sales'].sum()\n",
    "\n",
    "# Convert to time series format\n",
    "monthly_sales = monthly_sales.to_timestamp()\n",
    "\n",
    "# Display the aggregated sales\n",
    "print(\"Monthly Sales Data:\")\n",
    "print(monthly_sales)"
   ]
  },
  {
   "cell_type": "code",
   "execution_count": 77,
   "id": "e1ab1284-9582-4d4d-b359-2224eacdb4ee",
   "metadata": {},
   "outputs": [
    {
     "name": "stdout",
     "output_type": "stream",
     "text": [
      "Forecasted primary sales for October: 42663074.93\n"
     ]
    }
   ],
   "source": [
    "# Prepare data for regression\n",
    "if len(monthly_sales) > 1:  # Ensure there is enough data for regression\n",
    "    X = np.arange(len(monthly_sales)).reshape(-1, 1)  # Month indices as features\n",
    "    y = monthly_sales.values  # Sales values as target\n",
    "\n",
    "    # Train the linear regression model\n",
    "    model = LinearRegression()\n",
    "    model.fit(X, y)\n",
    "\n",
    "    # Forecast sales for the next month (October)\n",
    "    next_month = np.array([[len(monthly_sales)]])  # Index for October\n",
    "    forecast = model.predict(next_month)\n",
    "\n",
    "    print(f\"Forecasted primary sales for October: {forecast[0]:.2f}\")\n",
    "else:\n",
    "    print(\"Not enough data for Linear Regression forecasting.\")"
   ]
  },
  {
   "cell_type": "code",
   "execution_count": null,
   "id": "55a1adf7-9beb-48ef-a8ad-36c5d9cf9672",
   "metadata": {},
   "outputs": [],
   "source": []
  },
  {
   "cell_type": "markdown",
   "id": "5094060e-91d3-41bb-8a5a-b6ae86250ec8",
   "metadata": {},
   "source": [
    "**2. Which product had the highest forecasted sales for the \"CND Chennai\" sales team in November?**"
   ]
  },
  {
   "cell_type": "code",
   "execution_count": 79,
   "id": "df64c215-9d47-45ef-8146-bcee3027f36a",
   "metadata": {},
   "outputs": [],
   "source": [
    "from sklearn.linear_model import LinearRegression"
   ]
  },
  {
   "cell_type": "code",
   "execution_count": 80,
   "id": "d2193bfd-c5bc-4d6d-8eb4-3b3c62761f4c",
   "metadata": {},
   "outputs": [],
   "source": [
    "# Filter for the \"CND Chennai\" sales team\n",
    "cnd_chennai_data = df[df['Sales Team'] == 'CND Chennai']"
   ]
  },
  {
   "cell_type": "code",
   "execution_count": 81,
   "id": "067e6c2e-93f4-4848-a29e-a3cb264aa7b5",
   "metadata": {},
   "outputs": [
    {
     "name": "stdout",
     "output_type": "stream",
     "text": [
      "Item Name    BRITVIT  BRITVOG M 0.2  BRITVOG M 0.3    CALBRIT  CILNITAB 10  \\\n",
      "YearMonth                                                                    \n",
      "2024-04    310995.83       17268.06       36260.58  100870.14    105358.44   \n",
      "2024-05    201766.82        4773.45       -2086.62   81119.30    102845.73   \n",
      "2024-06    281207.26       55805.97       85287.15  132621.55    101424.37   \n",
      "2024-07    236602.98       36972.54       29547.57  124283.98    135218.82   \n",
      "2024-08    189072.89       17531.58        2330.25   71583.34     84872.73   \n",
      "2024-09    178062.37       19925.41       11896.92   84081.10    162289.41   \n",
      "\n",
      "Item Name  CILNITAB 20  CILNITAB 5  CITIBRIT FORTE  CITIBRIT PLUS  \\\n",
      "YearMonth                                                           \n",
      "2024-04       34472.75    31415.88        81340.90            NaN   \n",
      "2024-05       57732.29    44348.66       103704.78       -9380.00   \n",
      "2024-06       45185.82    41059.56       130820.25      -10239.12   \n",
      "2024-07       17756.12    56459.79       117880.94            NaN   \n",
      "2024-08       12410.19    32783.48       104180.49       -1877.16   \n",
      "2024-09       14637.66    33767.10        78967.86            NaN   \n",
      "\n",
      "Item Name  DABITON 110   DAFAX V  DAFAX VM 500  GLIMIBRIT M 0.5  \\\n",
      "YearMonth                                                         \n",
      "2024-04       15852.20  69427.20      23142.40         42904.40   \n",
      "2024-05        9843.53  98499.84      34713.60         34048.56   \n",
      "2024-06       22628.80  82358.02      15910.40         59196.65   \n",
      "2024-07       14143.00  77903.10      10124.80         45834.60   \n",
      "2024-08       18385.90  92106.75      -4049.92         34734.52   \n",
      "2024-09       -1414.30  44751.62       1446.40         22477.95   \n",
      "\n",
      "Item Name  GLIMIBRIT M1 FORTE  GLIMIBRIT M2 FORTE  GLIZATO 30 OD  GLIZATO 40  \\\n",
      "YearMonth                                                                      \n",
      "2024-04               3007.23            17999.52      103717.50    20364.00   \n",
      "2024-05              15576.59            29121.42       49978.60    21937.00   \n",
      "2024-06              27828.81            26322.80       75896.86    20662.27   \n",
      "2024-07              11369.56              205.72       49557.27    40501.09   \n",
      "2024-08               3760.65             9257.39       36630.34    20055.64   \n",
      "2024-09               5849.90            23657.80       59015.84    16715.43   \n",
      "\n",
      "Item Name  GLIZATO 60 OD  GLIZATO 80  GLIZATO M40  GLIZATO M80   IEN FCM  \\\n",
      "YearMonth                                                                  \n",
      "2024-04        249144.88    75996.87     98434.00    342455.41       NaN   \n",
      "2024-05        172168.22    85895.50    143015.00    404144.42       NaN   \n",
      "2024-06        213329.82    92955.05    141786.38    394198.09       NaN   \n",
      "2024-07        244574.22    91934.70    131764.50    391943.64       NaN   \n",
      "2024-08         87778.88    72168.37     98652.98    267447.33       NaN   \n",
      "2024-09        136591.68    88375.34     82662.98    396235.80  282858.0   \n",
      "\n",
      "Item Name      MYGUT  NEBILOC 10  NEBILOC 2.5  NEBILOC 5  NEBILOC 5 AM  \\\n",
      "YearMonth                                                                \n",
      "2024-04    134181.10    35559.90     25139.13  109057.55      21362.84   \n",
      "2024-05    105587.12    41713.77     30744.07   62889.83      17396.80   \n",
      "2024-06    150408.75    34405.51     50409.10  134747.67      31959.24   \n",
      "2024-07    275596.83    39787.47     31759.26   89506.71      37483.49   \n",
      "2024-08     97863.88    76744.20     19620.13   41800.65      13688.51   \n",
      "2024-09    110984.28    58047.42     15094.11   64135.70      17654.34   \n",
      "\n",
      "Item Name   NEURONZ D  NEURONZ PLUS    ONLY E  ROZULA 10  ROZULA 20  ROZULA 5  \\\n",
      "YearMonth                                                                       \n",
      "2024-04    1021362.31     397036.48  20623.43  153966.30   53652.22  66460.15   \n",
      "2024-05    1161546.19     371374.20  28697.94  158257.08   44125.94  57173.64   \n",
      "2024-06    1159485.88     447541.41  20973.15  160901.05  100575.71  35117.19   \n",
      "2024-07    1045995.26     338385.41  28265.93  159406.97   45965.52  54899.24   \n",
      "2024-08     969439.46     307993.51  22629.20  140629.96   35175.30  47902.82   \n",
      "2024-09     814672.05     304768.76  42172.60  122963.99   36102.24  44693.89   \n",
      "\n",
      "Item Name  ROZULA GOLD 10  ROZULA GOLD 20  SITADOC 100  SITADOC 25  \\\n",
      "YearMonth                                                            \n",
      "2024-04          66132.72        32599.86     52526.58    -2743.58   \n",
      "2024-05          59746.03        28248.06     30448.30    15536.17   \n",
      "2024-06          76439.89        33060.29     39709.29     9928.44   \n",
      "2024-07          94444.88        33260.86     67806.82    12870.20   \n",
      "2024-08          50041.54        -4011.36     63631.29    15561.25   \n",
      "2024-09          62607.15        32090.88      5649.03    15444.24   \n",
      "\n",
      "Item Name  SITADOC 50  SITADOC M 50 / 1000  SITADOC M 50 / 500  \\\n",
      "YearMonth                                                        \n",
      "2024-04      53375.60              21060.0            78105.04   \n",
      "2024-05      61924.98              15390.0           125109.28   \n",
      "2024-06      71696.18              15390.0           145292.24   \n",
      "2024-07      59605.80              31050.0           150381.86   \n",
      "2024-08      58187.50               5265.0            81860.08   \n",
      "2024-09      42333.68               2700.0           127463.78   \n",
      "\n",
      "Item Name  SITADOC MP 500  TELBRIT 20  TELBRIT 40  TELBRIT 80  TELBRIT AM  \\\n",
      "YearMonth                                                                   \n",
      "2024-04          27772.20    44542.25   134695.60     5787.61   108204.44   \n",
      "2024-05          32400.90    32660.87   147413.93     1596.64    93719.88   \n",
      "2024-06          10800.30    39617.88   129937.90     9979.00    93367.46   \n",
      "2024-07          54001.50    33036.83   101665.53    45404.45   139245.41   \n",
      "2024-08          18514.80    26563.83    62806.19     6513.56    78998.39   \n",
      "2024-09          26692.17    50227.45   135205.26     3928.09    75747.98   \n",
      "\n",
      "Item Name  TELBRIT CT  TELBRIT H  TENLIBRIT M  TENLIBRIT M FORTE  TENLITAB M  \\\n",
      "YearMonth                                                                      \n",
      "2024-04      62241.02   76426.57     16369.40             -410.0         NaN   \n",
      "2024-05      58842.81   91039.76     12535.50             -164.0    10446.25   \n",
      "2024-06      60353.81   99889.30     14457.61                NaN         NaN   \n",
      "2024-07      73068.08   47209.68     25238.14                NaN         NaN   \n",
      "2024-08      39018.68   45474.03      5264.91             -900.0         NaN   \n",
      "2024-09      66440.06   64513.59     14845.09              -90.0         NaN   \n",
      "\n",
      "Item Name  TRIGLIMIBRIT 1  TRIGLIMIBRIT 1.3  TRIGLIMIBRIT 2  TRIGLIMIBRIT 2.3  \\\n",
      "YearMonth                                                                       \n",
      "2024-04         113007.48          31923.90       252480.44          94365.00   \n",
      "2024-05         119471.29          63847.08       288395.61          74790.00   \n",
      "2024-06         151741.36          58621.91       238943.06          88609.08   \n",
      "2024-07         103004.41          83459.86       289457.75         110106.01   \n",
      "2024-08          83147.00          53078.21       166226.83          61314.48   \n",
      "2024-09          58112.97          70426.73       225773.48          88081.35   \n",
      "\n",
      "Item Name  VILZATO 100 OD  VILZATO 50  VILZATO M 1000  VILZATO M 500  \n",
      "YearMonth                                                             \n",
      "2024-04          47731.50   105296.05         3081.60       99392.92  \n",
      "2024-05          23271.76    95159.62         1770.99       99431.21  \n",
      "2024-06          70006.20   123612.20        -1610.14      100585.73  \n",
      "2024-07          19028.95    73374.46         8388.90      100613.85  \n",
      "2024-08            954.63    59707.02         2440.40       91685.62  \n",
      "2024-09          16865.13    50693.56         2330.25      113534.95  \n"
     ]
    }
   ],
   "source": [
    "# Extract year-month for aggregation\n",
    "cnd_chennai_data['YearMonth'] = cnd_chennai_data['Date'].dt.to_period('M')\n",
    "\n",
    "# Group by product and year-month, summing primary sales\n",
    "product_monthly_sales = cnd_chennai_data.groupby(['Item Name', 'YearMonth'])['Primary Sales'].sum()\n",
    "\n",
    "# Unstack to create a time series for each product\n",
    "product_sales_ts = product_monthly_sales.unstack(level=0)\n",
    "\n",
    "# Display the time series data\n",
    "print(product_sales_ts)"
   ]
  },
  {
   "cell_type": "code",
   "execution_count": 82,
   "id": "44743944-193b-4dec-abc2-be9ff1884a98",
   "metadata": {},
   "outputs": [
    {
     "name": "stdout",
     "output_type": "stream",
     "text": [
      "Forecasted sales for November: {'BRITVIT': 158216.02133333328, 'BRITVOG M 0.2': 28652.272666666664, 'BRITVOG M 0.3': 10775.248, 'CALBRIT': 87004.16999999998, 'CILNITAB 10': 141787.94666666668, 'CILNITAB 20': 4108.6600000000035, 'CILNITAB 5': 39218.49066666667, 'CITIBRIT FORTE': 100478.13200000001, 'CITIBRIT PLUS': 337.41333333333205, 'DABITON 110': 6320.735999999999, 'DAFAX V': 62806.546, 'DAFAX VM 500': -9507.669333333339, 'GLIMIBRIT M 0.5': 28522.471333333335, 'GLIMIBRIT M1 FORTE': 7462.751333333335, 'GLIMIBRIT M2 FORTE': 12018.998000000001, 'GLIZATO 30 OD': 33476.80133333334, 'GLIZATO 40': 22967.76066666667, 'GLIZATO 60 OD': 105462.32133333333, 'GLIZATO 80': 86523.366, 'GLIZATO M40': 93856.33600000001, 'GLIZATO M80': 351726.4046666667, 'MYGUT': 144373.75266666667, 'NEBILOC 10': 70000.79666666666, 'NEBILOC 2.5': 18569.624, 'NEBILOC 5': 50377.91, 'NEBILOC 5 AM': 20843.22466666667, 'NEURONZ D': 856423.9806666666, 'NEURONZ PLUS': 285119.6279999999, 'ONLY E': 36910.282666666666, 'ROZULA 10': 128415.52600000001, 'ROZULA 20': 35678.28733333334, 'ROZULA 5': 39354.984, 'ROZULA GOLD 10': 65361.73533333333, 'ROZULA GOLD 20': 15962.505999999998, 'SITADOC 100': 32621.093333333338, 'SITADOC 25': 20495.06333333333, 'SITADOC 50': 50002.71466666667, 'SITADOC M 50 / 1000': 4491.0, 'SITADOC M 50 / 500': 130248.95200000002, 'SITADOC MP 500': 27977.920000000002, 'TELBRIT 20': 38130.23466666667, 'TELBRIT 40': 90666.00600000002, 'TELBRIT 80': 16289.419333333337, 'TELBRIT AM': 82157.04466666668, 'TELBRIT CT': 57417.78466666666, 'TELBRIT H': 45864.650666666654, 'TENLIBRIT M': 12919.829333333331, 'TENLIBRIT M FORTE': -335.0, 'TRIGLIMIBRIT 1': 61529.18133333333, 'TRIGLIMIBRIT 1.3': 78730.83066666668, 'TRIGLIMIBRIT 2': 198593.55000000002, 'TRIGLIMIBRIT 2.3': 81176.19866666668, 'VILZATO 100 OD': 2416.9793333333364, 'VILZATO 50': 41679.68599999999, 'VILZATO M 1000': 3558.718666666666, 'VILZATO M 500': 105624.19666666664}\n"
     ]
    }
   ],
   "source": [
    "# Initialize a dictionary to store forecasts\n",
    "forecasts = {}\n",
    "\n",
    "# Iterate over each product's time series\n",
    "for product in product_sales_ts.columns:\n",
    "    # Select the time series for the product\n",
    "    sales_ts = product_sales_ts[product].dropna()\n",
    "\n",
    "    # Check if there is enough data for regression\n",
    "    if len(sales_ts) > 1:  # Ensure at least two data points\n",
    "        # Prepare data for regression\n",
    "        X = np.arange(len(sales_ts)).reshape(-1, 1)\n",
    "        y = sales_ts.values\n",
    "\n",
    "        # Train a linear regression model\n",
    "        model = LinearRegression()\n",
    "        model.fit(X, y)\n",
    "\n",
    "        # Predict sales for the next period (November)\n",
    "        next_period = np.array([[len(sales_ts)]])\n",
    "        forecast = model.predict(next_period)\n",
    "        forecasts[product] = forecast[0]\n",
    "\n",
    "# Display the forecasts\n",
    "print(f\"Forecasted sales for November: {forecasts}\")"
   ]
  },
  {
   "cell_type": "code",
   "execution_count": 83,
   "id": "63124368-b7a4-4e41-8907-fad296e532ef",
   "metadata": {},
   "outputs": [
    {
     "name": "stdout",
     "output_type": "stream",
     "text": [
      "The product with the highest forecasted sales for 'CND Chennai' in November is 'NEURONZ D' with forecasted sales of 856423.98\n"
     ]
    }
   ],
   "source": [
    "# Find the product with the maximum forecasted sales\n",
    "highest_forecasted_product = max(forecasts, key=forecasts.get)\n",
    "highest_forecasted_sales = forecasts[highest_forecasted_product]\n",
    "\n",
    "print(f\"The product with the highest forecasted sales for 'CND Chennai' in November is '{highest_forecasted_product}' with forecasted sales of {highest_forecasted_sales:.2f}\")"
   ]
  },
  {
   "cell_type": "code",
   "execution_count": null,
   "id": "b30046a4-0d38-4a9a-9f20-5d43a354a007",
   "metadata": {},
   "outputs": [],
   "source": []
  },
  {
   "cell_type": "markdown",
   "id": "38e6cd4b-af9b-482b-a285-128511fceac0",
   "metadata": {},
   "source": [
    "**3. What were the forecasted sales of \"Britorva 20\" in October under Coimbatore HQ?**"
   ]
  },
  {
   "cell_type": "code",
   "execution_count": 85,
   "id": "f8741f85-d530-4250-b714-c9ad290f74f6",
   "metadata": {},
   "outputs": [],
   "source": [
    "from sklearn.linear_model import LinearRegression"
   ]
  },
  {
   "cell_type": "code",
   "execution_count": 86,
   "id": "237790c6-d84d-44e8-b843-91b8a693d551",
   "metadata": {},
   "outputs": [
    {
     "name": "stdout",
     "output_type": "stream",
     "text": [
      "No data available for 'Britorva 20' under Coimbatore HQ.\n"
     ]
    }
   ],
   "source": [
    "# Filter for Coimbatore HQ and \"Britorva 20\"\n",
    "britorva_data = df[(df['HQ'] == 'HQ-Coimbatore') & (df['Item Name'] == 'Britorva 20')]\n",
    "\n",
    "# Check if there is data available\n",
    "if britorva_data.empty:\n",
    "    print(\"No data available for 'Britorva 20' under Coimbatore HQ.\")\n",
    "else:\n",
    "    print(\"Data for 'Britorva 20' under Coimbatore HQ is available.\")"
   ]
  },
  {
   "cell_type": "code",
   "execution_count": 87,
   "id": "243fcfa5-fd45-458f-abc7-ed354e5fb978",
   "metadata": {},
   "outputs": [
    {
     "name": "stdout",
     "output_type": "stream",
     "text": [
      "Monthly Sales Data:\n",
      "Series([], Name: Primary Sales, dtype: float64)\n"
     ]
    }
   ],
   "source": [
    "# Extract year-month for aggregation\n",
    "britorva_data['YearMonth'] = britorva_data['Date'].dt.to_period('M')\n",
    "\n",
    "# Group by year-month and sum primary sales\n",
    "monthly_sales = britorva_data.groupby('YearMonth')['Primary Sales'].sum()\n",
    "\n",
    "# Convert to time series format\n",
    "monthly_sales = monthly_sales.to_timestamp()\n",
    "\n",
    "# Display the aggregated sales\n",
    "print(\"Monthly Sales Data:\")\n",
    "print(monthly_sales)"
   ]
  },
  {
   "cell_type": "code",
   "execution_count": 88,
   "id": "dab59116-627e-408d-ba50-a69d6f571e55",
   "metadata": {},
   "outputs": [
    {
     "name": "stdout",
     "output_type": "stream",
     "text": [
      "Not enough data for Linear Regression forecasting.\n"
     ]
    }
   ],
   "source": [
    "# Prepare data for regression\n",
    "if len(monthly_sales) > 1:  # Ensure there is enough data for regression\n",
    "    X = np.arange(len(monthly_sales)).reshape(-1, 1)  # Month indices as features\n",
    "    y = monthly_sales.values  # Sales values as target\n",
    "\n",
    "    # Train the linear regression model\n",
    "    model = LinearRegression()\n",
    "    model.fit(X, y)\n",
    "\n",
    "    # Forecast sales for the next month (October)\n",
    "    next_month = np.array([[len(monthly_sales)]])  # Index for October\n",
    "    forecast = model.predict(next_month)\n",
    "\n",
    "    print(f\"Forecasted sales of 'Britorva 20' in October under Coimbatore HQ: {forecast[0]:.2f}\")\n",
    "else:\n",
    "    print(\"Not enough data for Linear Regression forecasting.\")"
   ]
  },
  {
   "cell_type": "code",
   "execution_count": null,
   "id": "986ceb06-9da9-4e26-ad8c-6de2220c63ba",
   "metadata": {},
   "outputs": [],
   "source": []
  },
  {
   "cell_type": "markdown",
   "id": "901f88c1-7d14-4dc2-839f-d4c5b89d3d1d",
   "metadata": {},
   "source": [
    "### Conclusions"
   ]
  },
  {
   "cell_type": "markdown",
   "id": "d8c277ba-0e95-4181-8305-8b854b6df810",
   "metadata": {},
   "source": [
    "#### Answers of 7 Questions :-"
   ]
  },
  {
   "cell_type": "markdown",
   "id": "a29a6898-6df2-4360-a954-ec94e479d872",
   "metadata": {},
   "source": [
    "1. What was the highest-selling product in September?\n",
    "\n",
    "=> The highest-selling product in September is 'NEURONZ D' with sales of 2308078.58"
   ]
  },
  {
   "cell_type": "markdown",
   "id": "d307a9f7-8ff0-4315-8c0b-a43f9adc944d",
   "metadata": {},
   "source": [
    "2. Which product had the highest sales for the \"CND Chennai\" sales team in May?\n",
    "\n",
    "=> The product with the highest sales for 'CND Chennai' in May is 'NEURONZ D' with sales of 1161546.19"
   ]
  },
  {
   "cell_type": "markdown",
   "id": "e71bc6c4-462d-41bb-8082-8cae13a074f7",
   "metadata": {},
   "source": [
    "3. Which customer had the maximum stock returns in June for the Bangalore HQ?\n",
    "\n",
    "=> Customer had the maximum stock returns in June for the Bangalore HQ is 0"
   ]
  },
  {
   "cell_type": "markdown",
   "id": "5c68e7fe-0a07-4b56-82a1-13c877a4e158",
   "metadata": {},
   "source": [
    "4. Which sales team had the maximum percentage of primary sales returned due to expiry?\n",
    "\n",
    "=> The sales team with the maximum percentage of primary sales returned due to expiry is 'Elbrit Kerala' with 20.31%."
   ]
  },
  {
   "cell_type": "markdown",
   "id": "a3c32815-1fec-4b99-9fe0-6c8830dd72af",
   "metadata": {},
   "source": [
    "5. What percentage of overall primary sales was affected by breakage?\n",
    "\n",
    "=> The percentage of overall primary sales affected by breakage is 0.39%."
   ]
  },
  {
   "cell_type": "markdown",
   "id": "32206ab5-74dd-4ee8-8e9a-515c69bdc06d",
   "metadata": {},
   "source": [
    "6. What were the primary sales for the Delhi HQ in the month of September?\n",
    "\n",
    "=> Total primary sales for Delhi HQ in September is 0"
   ]
  },
  {
   "cell_type": "markdown",
   "id": "8fceab91-e9e8-4e65-8b4b-720fa311a7d0",
   "metadata": {},
   "source": [
    "7. What were the sales of \"Britorva 20\" in September for PALEPU PHARMA DIST PVT LTD under Coimbatore HQ?\n",
    "\n",
    "=> Total sales of 'Britorva 20' in September for PALEPU PHARMA DIST PVT LTD under Coimbatore HQ is 0"
   ]
  },
  {
   "cell_type": "markdown",
   "id": "70c71434-bf99-486e-bd54-34f75cdf613a",
   "metadata": {},
   "source": [
    "#### Answers of Bonus Questions:-"
   ]
  },
  {
   "cell_type": "markdown",
   "id": "c7250266-77b8-41a2-a4e3-19719f0f4413",
   "metadata": {},
   "source": [
    "1. What is the forecasted value of primary sales for the October month?\n",
    "\n",
    "=> Forecasted primary sales for October is 42663074.93"
   ]
  },
  {
   "cell_type": "markdown",
   "id": "f080dc31-cd79-4d7e-b9ee-0b2d7648f70d",
   "metadata": {},
   "source": [
    "2. Which product had the highest forecasted sales for the \"CND Chennai\" sales team in November?\n",
    "\n",
    "=> The product with the highest forecasted sales for 'CND Chennai' in November is 'NEURONZ D' with forecasted sales of 856423.98"
   ]
  },
  {
   "cell_type": "markdown",
   "id": "2fd2475c-6d31-4e02-9207-9c10028bd5a4",
   "metadata": {},
   "source": [
    "3. What were the forecasted sales of \"Britorva 20\" in October under Coimbatore HQ?\n",
    "\n",
    "=> Incomplete Data, Not enough data for Linear Regression forecasting."
   ]
  },
  {
   "cell_type": "code",
   "execution_count": null,
   "id": "7fe3e90b-a311-42be-8bbd-b40dd442907f",
   "metadata": {},
   "outputs": [],
   "source": []
  },
  {
   "cell_type": "code",
   "execution_count": null,
   "id": "8d16c410-6eef-4d8e-9706-d19ffcb324f1",
   "metadata": {},
   "outputs": [],
   "source": []
  }
 ],
 "metadata": {
  "kernelspec": {
   "display_name": "Python 3 (ipykernel)",
   "language": "python",
   "name": "python3"
  },
  "language_info": {
   "codemirror_mode": {
    "name": "ipython",
    "version": 3
   },
   "file_extension": ".py",
   "mimetype": "text/x-python",
   "name": "python",
   "nbconvert_exporter": "python",
   "pygments_lexer": "ipython3",
   "version": "3.12.4"
  }
 },
 "nbformat": 4,
 "nbformat_minor": 5
}
